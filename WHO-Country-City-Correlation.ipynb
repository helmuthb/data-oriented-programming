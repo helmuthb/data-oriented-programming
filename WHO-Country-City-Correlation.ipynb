{
 "cells": [
  {
   "cell_type": "markdown",
   "metadata": {},
   "source": [
    "# WHO Health Data\n",
    "## In Correlation with Numbeo Health Index and Numbeo QoL index\n",
    "\n",
    "This notebook uses the WHO data on access to sanitation services as well as\n",
    "the Health Regulations core competencies and compares it with the Numbeo data."
   ]
  },
  {
   "cell_type": "code",
   "execution_count": 1,
   "metadata": {
    "ExecuteTime": {
     "end_time": "2020-01-25T18:18:50.980328Z",
     "start_time": "2020-01-25T18:18:50.315980Z"
    }
   },
   "outputs": [],
   "source": [
    "# import required packages\n",
    "import pandas as pd\n",
    "import numpy as np\n",
    "import seaborn as sns\n",
    "import matplotlib.pyplot as plt\n",
    "import statsmodels.formula.api as smf"
   ]
  },
  {
   "cell_type": "code",
   "execution_count": 2,
   "metadata": {
    "ExecuteTime": {
     "end_time": "2020-01-25T18:18:51.022790Z",
     "start_time": "2020-01-25T18:18:50.981862Z"
    }
   },
   "outputs": [
    {
     "data": {
      "text/html": [
       "<div>\n",
       "<style scoped>\n",
       "    .dataframe tbody tr th:only-of-type {\n",
       "        vertical-align: middle;\n",
       "    }\n",
       "\n",
       "    .dataframe tbody tr th {\n",
       "        vertical-align: top;\n",
       "    }\n",
       "\n",
       "    .dataframe thead th {\n",
       "        text-align: right;\n",
       "    }\n",
       "</style>\n",
       "<table border=\"1\" class=\"dataframe\">\n",
       "  <thead>\n",
       "    <tr style=\"text-align: right;\">\n",
       "      <th></th>\n",
       "      <th>Period</th>\n",
       "      <th>City_Country</th>\n",
       "      <th>QualityOfLife</th>\n",
       "      <th>PurchasingPower</th>\n",
       "      <th>Safety</th>\n",
       "      <th>HealthCare</th>\n",
       "      <th>CostOfLiving</th>\n",
       "      <th>PropertyPriceToIncomeRatio</th>\n",
       "      <th>TrafficCommuteTime</th>\n",
       "      <th>Pollution</th>\n",
       "      <th>Climate</th>\n",
       "      <th>City</th>\n",
       "      <th>Country</th>\n",
       "    </tr>\n",
       "  </thead>\n",
       "  <tbody>\n",
       "    <tr>\n",
       "      <th>0</th>\n",
       "      <td>2020</td>\n",
       "      <td>Caracas, Venezuela</td>\n",
       "      <td>0.00</td>\n",
       "      <td>2.36</td>\n",
       "      <td>15.10</td>\n",
       "      <td>39.28</td>\n",
       "      <td>27.68</td>\n",
       "      <td>150.55</td>\n",
       "      <td>34.69</td>\n",
       "      <td>72.41</td>\n",
       "      <td>99.93</td>\n",
       "      <td>Caracas</td>\n",
       "      <td>Venezuela</td>\n",
       "    </tr>\n",
       "    <tr>\n",
       "      <th>1</th>\n",
       "      <td>2020</td>\n",
       "      <td>Auckland, New Zealand</td>\n",
       "      <td>165.38</td>\n",
       "      <td>83.93</td>\n",
       "      <td>54.54</td>\n",
       "      <td>73.43</td>\n",
       "      <td>76.06</td>\n",
       "      <td>12.09</td>\n",
       "      <td>37.96</td>\n",
       "      <td>29.19</td>\n",
       "      <td>99.89</td>\n",
       "      <td>Auckland</td>\n",
       "      <td>New Zealand</td>\n",
       "    </tr>\n",
       "    <tr>\n",
       "      <th>2</th>\n",
       "      <td>2020</td>\n",
       "      <td>Guatemala City, Guatemala</td>\n",
       "      <td>107.71</td>\n",
       "      <td>40.18</td>\n",
       "      <td>37.39</td>\n",
       "      <td>63.63</td>\n",
       "      <td>44.26</td>\n",
       "      <td>9.89</td>\n",
       "      <td>50.11</td>\n",
       "      <td>69.66</td>\n",
       "      <td>99.89</td>\n",
       "      <td>Guatemala City</td>\n",
       "      <td>Guatemala</td>\n",
       "    </tr>\n",
       "    <tr>\n",
       "      <th>3</th>\n",
       "      <td>2020</td>\n",
       "      <td>Nairobi, Kenya</td>\n",
       "      <td>73.29</td>\n",
       "      <td>24.85</td>\n",
       "      <td>39.92</td>\n",
       "      <td>56.46</td>\n",
       "      <td>42.08</td>\n",
       "      <td>26.17</td>\n",
       "      <td>56.94</td>\n",
       "      <td>80.42</td>\n",
       "      <td>99.79</td>\n",
       "      <td>Nairobi</td>\n",
       "      <td>Kenya</td>\n",
       "    </tr>\n",
       "    <tr>\n",
       "      <th>4</th>\n",
       "      <td>2020</td>\n",
       "      <td>Medellin, Colombia</td>\n",
       "      <td>117.13</td>\n",
       "      <td>29.90</td>\n",
       "      <td>48.66</td>\n",
       "      <td>77.28</td>\n",
       "      <td>30.19</td>\n",
       "      <td>17.90</td>\n",
       "      <td>38.29</td>\n",
       "      <td>64.89</td>\n",
       "      <td>99.76</td>\n",
       "      <td>Medellin</td>\n",
       "      <td>Colombia</td>\n",
       "    </tr>\n",
       "    <tr>\n",
       "      <th>...</th>\n",
       "      <td>...</td>\n",
       "      <td>...</td>\n",
       "      <td>...</td>\n",
       "      <td>...</td>\n",
       "      <td>...</td>\n",
       "      <td>...</td>\n",
       "      <td>...</td>\n",
       "      <td>...</td>\n",
       "      <td>...</td>\n",
       "      <td>...</td>\n",
       "      <td>...</td>\n",
       "      <td>...</td>\n",
       "      <td>...</td>\n",
       "    </tr>\n",
       "    <tr>\n",
       "      <th>2304</th>\n",
       "      <td>2012-Q1</td>\n",
       "      <td>Cairo, Egypt</td>\n",
       "      <td>-35.66</td>\n",
       "      <td>18.35</td>\n",
       "      <td>61.33</td>\n",
       "      <td>70.83</td>\n",
       "      <td>52.69</td>\n",
       "      <td>15.51</td>\n",
       "      <td>58.75</td>\n",
       "      <td>129.50</td>\n",
       "      <td>NaN</td>\n",
       "      <td>Cairo</td>\n",
       "      <td>Egypt</td>\n",
       "    </tr>\n",
       "    <tr>\n",
       "      <th>2305</th>\n",
       "      <td>2012-Q1</td>\n",
       "      <td>Tehran, Iran</td>\n",
       "      <td>-50.44</td>\n",
       "      <td>47.52</td>\n",
       "      <td>43.27</td>\n",
       "      <td>43.40</td>\n",
       "      <td>60.86</td>\n",
       "      <td>13.72</td>\n",
       "      <td>73.50</td>\n",
       "      <td>140.75</td>\n",
       "      <td>NaN</td>\n",
       "      <td>Tehran</td>\n",
       "      <td>Iran</td>\n",
       "    </tr>\n",
       "    <tr>\n",
       "      <th>2306</th>\n",
       "      <td>2012-Q1</td>\n",
       "      <td>Moscow, Russia</td>\n",
       "      <td>-54.72</td>\n",
       "      <td>46.75</td>\n",
       "      <td>47.33</td>\n",
       "      <td>37.75</td>\n",
       "      <td>86.77</td>\n",
       "      <td>28.06</td>\n",
       "      <td>61.50</td>\n",
       "      <td>116.61</td>\n",
       "      <td>NaN</td>\n",
       "      <td>Moscow</td>\n",
       "      <td>Russia</td>\n",
       "    </tr>\n",
       "    <tr>\n",
       "      <th>2307</th>\n",
       "      <td>2012-Q1</td>\n",
       "      <td>Kolkata, India</td>\n",
       "      <td>-74.08</td>\n",
       "      <td>49.55</td>\n",
       "      <td>27.97</td>\n",
       "      <td>19.72</td>\n",
       "      <td>32.96</td>\n",
       "      <td>15.13</td>\n",
       "      <td>74.25</td>\n",
       "      <td>145.50</td>\n",
       "      <td>NaN</td>\n",
       "      <td>Kolkata</td>\n",
       "      <td>India</td>\n",
       "    </tr>\n",
       "    <tr>\n",
       "      <th>2308</th>\n",
       "      <td>2012-Q1</td>\n",
       "      <td>Shanghai, China</td>\n",
       "      <td>-76.15</td>\n",
       "      <td>40.91</td>\n",
       "      <td>56.25</td>\n",
       "      <td>34.72</td>\n",
       "      <td>58.29</td>\n",
       "      <td>37.05</td>\n",
       "      <td>31.20</td>\n",
       "      <td>140.25</td>\n",
       "      <td>NaN</td>\n",
       "      <td>Shanghai</td>\n",
       "      <td>China</td>\n",
       "    </tr>\n",
       "  </tbody>\n",
       "</table>\n",
       "<p>2309 rows × 13 columns</p>\n",
       "</div>"
      ],
      "text/plain": [
       "       Period               City_Country  QualityOfLife  PurchasingPower  \\\n",
       "0        2020         Caracas, Venezuela           0.00             2.36   \n",
       "1        2020      Auckland, New Zealand         165.38            83.93   \n",
       "2        2020  Guatemala City, Guatemala         107.71            40.18   \n",
       "3        2020             Nairobi, Kenya          73.29            24.85   \n",
       "4        2020         Medellin, Colombia         117.13            29.90   \n",
       "...       ...                        ...            ...              ...   \n",
       "2304  2012-Q1               Cairo, Egypt         -35.66            18.35   \n",
       "2305  2012-Q1               Tehran, Iran         -50.44            47.52   \n",
       "2306  2012-Q1             Moscow, Russia         -54.72            46.75   \n",
       "2307  2012-Q1             Kolkata, India         -74.08            49.55   \n",
       "2308  2012-Q1            Shanghai, China         -76.15            40.91   \n",
       "\n",
       "      Safety  HealthCare  CostOfLiving  PropertyPriceToIncomeRatio  \\\n",
       "0      15.10       39.28         27.68                      150.55   \n",
       "1      54.54       73.43         76.06                       12.09   \n",
       "2      37.39       63.63         44.26                        9.89   \n",
       "3      39.92       56.46         42.08                       26.17   \n",
       "4      48.66       77.28         30.19                       17.90   \n",
       "...      ...         ...           ...                         ...   \n",
       "2304   61.33       70.83         52.69                       15.51   \n",
       "2305   43.27       43.40         60.86                       13.72   \n",
       "2306   47.33       37.75         86.77                       28.06   \n",
       "2307   27.97       19.72         32.96                       15.13   \n",
       "2308   56.25       34.72         58.29                       37.05   \n",
       "\n",
       "      TrafficCommuteTime  Pollution  Climate            City      Country  \n",
       "0                  34.69      72.41    99.93         Caracas    Venezuela  \n",
       "1                  37.96      29.19    99.89        Auckland  New Zealand  \n",
       "2                  50.11      69.66    99.89  Guatemala City    Guatemala  \n",
       "3                  56.94      80.42    99.79         Nairobi        Kenya  \n",
       "4                  38.29      64.89    99.76        Medellin     Colombia  \n",
       "...                  ...        ...      ...             ...          ...  \n",
       "2304               58.75     129.50      NaN           Cairo        Egypt  \n",
       "2305               73.50     140.75      NaN          Tehran         Iran  \n",
       "2306               61.50     116.61      NaN          Moscow       Russia  \n",
       "2307               74.25     145.50      NaN         Kolkata        India  \n",
       "2308               31.20     140.25      NaN        Shanghai        China  \n",
       "\n",
       "[2309 rows x 13 columns]"
      ]
     },
     "metadata": {},
     "output_type": "display_data"
    }
   ],
   "source": [
    "# Read in Numbeo data set\n",
    "dfNumbeo = pd.read_csv(\"data/Numbeo.csv\",sep=\";\",decimal=\",\")\n",
    "dfNumbeo.columns = ['Period', 'City_Country', 'QualityOfLife',\n",
    "                    'PurchasingPower', 'Safety', 'HealthCare',\n",
    "                    'CostOfLiving', 'PropertyPriceToIncomeRatio',\n",
    "                    'TrafficCommuteTime','Pollution', 'Climate']\n",
    "# split City_Country into City and Country\n",
    "City_Country = dfNumbeo['City_Country'].str.split(',', n=1, expand=True)\n",
    "dfNumbeo['City'] = City_Country[0].str.strip()\n",
    "dfNumbeo['Country'] = City_Country[1].str.strip()\n",
    "display(dfNumbeo)"
   ]
  },
  {
   "cell_type": "code",
   "execution_count": 3,
   "metadata": {
    "ExecuteTime": {
     "end_time": "2020-01-25T18:18:51.065587Z",
     "start_time": "2020-01-25T18:18:51.024203Z"
    }
   },
   "outputs": [
    {
     "data": {
      "text/html": [
       "<div>\n",
       "<style scoped>\n",
       "    .dataframe tbody tr th:only-of-type {\n",
       "        vertical-align: middle;\n",
       "    }\n",
       "\n",
       "    .dataframe tbody tr th {\n",
       "        vertical-align: top;\n",
       "    }\n",
       "\n",
       "    .dataframe thead th {\n",
       "        text-align: right;\n",
       "    }\n",
       "</style>\n",
       "<table border=\"1\" class=\"dataframe\">\n",
       "  <thead>\n",
       "    <tr style=\"text-align: right;\">\n",
       "      <th></th>\n",
       "      <th>name</th>\n",
       "      <th>YEAR</th>\n",
       "      <th>Numeric</th>\n",
       "    </tr>\n",
       "  </thead>\n",
       "  <tbody>\n",
       "    <tr>\n",
       "      <th>2</th>\n",
       "      <td>Albania</td>\n",
       "      <td>2000</td>\n",
       "      <td>39.79776</td>\n",
       "    </tr>\n",
       "    <tr>\n",
       "      <th>5</th>\n",
       "      <td>Albania</td>\n",
       "      <td>2001</td>\n",
       "      <td>39.76243</td>\n",
       "    </tr>\n",
       "    <tr>\n",
       "      <th>8</th>\n",
       "      <td>Albania</td>\n",
       "      <td>2002</td>\n",
       "      <td>39.72710</td>\n",
       "    </tr>\n",
       "    <tr>\n",
       "      <th>11</th>\n",
       "      <td>Albania</td>\n",
       "      <td>2003</td>\n",
       "      <td>39.69178</td>\n",
       "    </tr>\n",
       "    <tr>\n",
       "      <th>14</th>\n",
       "      <td>Albania</td>\n",
       "      <td>2004</td>\n",
       "      <td>39.65645</td>\n",
       "    </tr>\n",
       "    <tr>\n",
       "      <th>...</th>\n",
       "      <td>...</td>\n",
       "      <td>...</td>\n",
       "      <td>...</td>\n",
       "    </tr>\n",
       "    <tr>\n",
       "      <th>3650</th>\n",
       "      <td>Zimbabwe</td>\n",
       "      <td>2013</td>\n",
       "      <td>18.29558</td>\n",
       "    </tr>\n",
       "    <tr>\n",
       "      <th>3651</th>\n",
       "      <td>Zimbabwe</td>\n",
       "      <td>2014</td>\n",
       "      <td>17.79461</td>\n",
       "    </tr>\n",
       "    <tr>\n",
       "      <th>3652</th>\n",
       "      <td>Zimbabwe</td>\n",
       "      <td>2015</td>\n",
       "      <td>17.29372</td>\n",
       "    </tr>\n",
       "    <tr>\n",
       "      <th>3653</th>\n",
       "      <td>Zimbabwe</td>\n",
       "      <td>2016</td>\n",
       "      <td>16.79291</td>\n",
       "    </tr>\n",
       "    <tr>\n",
       "      <th>3654</th>\n",
       "      <td>Zimbabwe</td>\n",
       "      <td>2017</td>\n",
       "      <td>16.29218</td>\n",
       "    </tr>\n",
       "  </tbody>\n",
       "</table>\n",
       "<p>1301 rows × 3 columns</p>\n",
       "</div>"
      ],
      "text/plain": [
       "          name  YEAR   Numeric\n",
       "2      Albania  2000  39.79776\n",
       "5      Albania  2001  39.76243\n",
       "8      Albania  2002  39.72710\n",
       "11     Albania  2003  39.69178\n",
       "14     Albania  2004  39.65645\n",
       "...        ...   ...       ...\n",
       "3650  Zimbabwe  2013  18.29558\n",
       "3651  Zimbabwe  2014  17.79461\n",
       "3652  Zimbabwe  2015  17.29372\n",
       "3653  Zimbabwe  2016  16.79291\n",
       "3654  Zimbabwe  2017  16.29218\n",
       "\n",
       "[1301 rows x 3 columns]"
      ]
     },
     "metadata": {},
     "output_type": "display_data"
    },
    {
     "data": {
      "text/html": [
       "<div>\n",
       "<style scoped>\n",
       "    .dataframe tbody tr th:only-of-type {\n",
       "        vertical-align: middle;\n",
       "    }\n",
       "\n",
       "    .dataframe tbody tr th {\n",
       "        vertical-align: top;\n",
       "    }\n",
       "\n",
       "    .dataframe thead th {\n",
       "        text-align: right;\n",
       "    }\n",
       "</style>\n",
       "<table border=\"1\" class=\"dataframe\">\n",
       "  <thead>\n",
       "    <tr style=\"text-align: right;\">\n",
       "      <th></th>\n",
       "      <th>name</th>\n",
       "      <th>YEAR</th>\n",
       "      <th>Numeric</th>\n",
       "    </tr>\n",
       "  </thead>\n",
       "  <tbody>\n",
       "    <tr>\n",
       "      <th>0</th>\n",
       "      <td>Lao People's Democratic Republic</td>\n",
       "      <td>2017</td>\n",
       "      <td>NaN</td>\n",
       "    </tr>\n",
       "    <tr>\n",
       "      <th>644</th>\n",
       "      <td>Lao People's Democratic Republic</td>\n",
       "      <td>2010</td>\n",
       "      <td>51.0</td>\n",
       "    </tr>\n",
       "    <tr>\n",
       "      <th>645</th>\n",
       "      <td>Lao People's Democratic Republic</td>\n",
       "      <td>2011</td>\n",
       "      <td>50.0</td>\n",
       "    </tr>\n",
       "    <tr>\n",
       "      <th>646</th>\n",
       "      <td>Lao People's Democratic Republic</td>\n",
       "      <td>2012</td>\n",
       "      <td>31.0</td>\n",
       "    </tr>\n",
       "    <tr>\n",
       "      <th>647</th>\n",
       "      <td>Lao People's Democratic Republic</td>\n",
       "      <td>2013</td>\n",
       "      <td>55.0</td>\n",
       "    </tr>\n",
       "    <tr>\n",
       "      <th>...</th>\n",
       "      <td>...</td>\n",
       "      <td>...</td>\n",
       "      <td>...</td>\n",
       "    </tr>\n",
       "    <tr>\n",
       "      <th>1073</th>\n",
       "      <td>Tonga</td>\n",
       "      <td>2013</td>\n",
       "      <td>74.0</td>\n",
       "    </tr>\n",
       "    <tr>\n",
       "      <th>1088</th>\n",
       "      <td>Turkmenistan</td>\n",
       "      <td>2011</td>\n",
       "      <td>81.0</td>\n",
       "    </tr>\n",
       "    <tr>\n",
       "      <th>1089</th>\n",
       "      <td>Turkmenistan</td>\n",
       "      <td>2014</td>\n",
       "      <td>84.0</td>\n",
       "    </tr>\n",
       "    <tr>\n",
       "      <th>1121</th>\n",
       "      <td>Uzbekistan</td>\n",
       "      <td>2011</td>\n",
       "      <td>90.0</td>\n",
       "    </tr>\n",
       "    <tr>\n",
       "      <th>1122</th>\n",
       "      <td>Uzbekistan</td>\n",
       "      <td>2014</td>\n",
       "      <td>83.0</td>\n",
       "    </tr>\n",
       "  </tbody>\n",
       "</table>\n",
       "<p>1151 rows × 3 columns</p>\n",
       "</div>"
      ],
      "text/plain": [
       "                                  name  YEAR  Numeric\n",
       "0     Lao People's Democratic Republic  2017      NaN\n",
       "644   Lao People's Democratic Republic  2010     51.0\n",
       "645   Lao People's Democratic Republic  2011     50.0\n",
       "646   Lao People's Democratic Republic  2012     31.0\n",
       "647   Lao People's Democratic Republic  2013     55.0\n",
       "...                                ...   ...      ...\n",
       "1073                             Tonga  2013     74.0\n",
       "1088                      Turkmenistan  2011     81.0\n",
       "1089                      Turkmenistan  2014     84.0\n",
       "1121                        Uzbekistan  2011     90.0\n",
       "1122                        Uzbekistan  2014     83.0\n",
       "\n",
       "[1151 rows x 3 columns]"
      ]
     },
     "metadata": {},
     "output_type": "display_data"
    }
   ],
   "source": [
    "# Read in WHO data: Usage of safely managed sanitation services\n",
    "dfWHO_sanitation = pd.read_csv('data/WHO_WSH_SANITATION_SAFELY_MANAGED.csv')\n",
    "# Read in WHO data: sustainable development goals\n",
    "dfWHO_SDG = pd.read_csv('data/WHO_SDGIHR.csv')\n",
    "# Read in table of ISO codes\n",
    "dfISO = pd.read_csv('data/country-iso.csv')\n",
    "dfISO = dfISO.set_index('alpha-3')\n",
    "# Enrich WHO data with country names\n",
    "dfWHO_sanitation = dfWHO_sanitation.join(\n",
    "    dfISO['name'], on='COUNTRY', how='inner')\n",
    "dfWHO_SDG = dfWHO_SDG.join(\n",
    "    dfISO['name'], on='COUNTRY', how='inner')\n",
    "# filter for urban area (sanitation only)\n",
    "# only use columns year and numeric\n",
    "dfWHO_sanitation = dfWHO_sanitation.loc[\n",
    "    dfWHO_sanitation.RESIDENCEAREATYPE == 'URB',\n",
    "    ['name', 'YEAR', 'Numeric']]\n",
    "dfWHO_SDG = dfWHO_SDG.loc[:, ['name', 'YEAR', 'Numeric']]\n",
    "display(dfWHO_sanitation)\n",
    "display(dfWHO_SDG)"
   ]
  },
  {
   "cell_type": "code",
   "execution_count": 4,
   "metadata": {
    "ExecuteTime": {
     "end_time": "2020-01-25T18:18:51.100320Z",
     "start_time": "2020-01-25T18:18:51.066739Z"
    }
   },
   "outputs": [
    {
     "data": {
      "text/plain": [
       "0.493655379640088"
      ]
     },
     "metadata": {},
     "output_type": "display_data"
    },
    {
     "data": {
      "text/plain": [
       "0.08941727891057168"
      ]
     },
     "metadata": {},
     "output_type": "display_data"
    },
    {
     "data": {
      "text/plain": [
       "0.542428204331822"
      ]
     },
     "metadata": {},
     "output_type": "display_data"
    },
    {
     "data": {
      "text/plain": [
       "0.29177105476307286"
      ]
     },
     "metadata": {},
     "output_type": "display_data"
    }
   ],
   "source": [
    "# Merge Numbeo with WHO, merge on country & year\n",
    "# first add country-period column on numbeo\n",
    "dfNumbeo['Country_Period'] = (\n",
    "    dfNumbeo['Country'].str[:10] +\n",
    "    dfNumbeo['Period'].str[:4]\n",
    ")\n",
    "# now add similar column on WHO\n",
    "dfWHO_sanitation['Country_Period'] = (\n",
    "    dfWHO_sanitation['name'].str[:10] +\n",
    "    dfWHO_sanitation['YEAR'].astype(str)\n",
    ")\n",
    "dfWHO_SDG['Country_Period'] = (\n",
    "    dfWHO_SDG['name'].str[:10] +\n",
    "    dfWHO_SDG['YEAR'].astype(str)\n",
    ")\n",
    "# Now merge with sanitation\n",
    "dfMerged = dfNumbeo.merge(\n",
    "    dfWHO_sanitation,\n",
    "    on='Country_Period',\n",
    "    how='inner'\n",
    ")\n",
    "# Renamed column 'Numeric' to 'Sanitation'\n",
    "dfMerged.rename(columns={'Numeric':'Sanitation'}, inplace=True)\n",
    "# Now merge with SDG\n",
    "dfMerged = dfMerged.merge(\n",
    "    dfWHO_SDG,\n",
    "    on='Country_Period',\n",
    "    how='inner'\n",
    ")\n",
    "# Renamed column 'Numeric' to 'SDG'\n",
    "dfMerged.rename(columns={'Numeric':'SDG'}, inplace=True)\n",
    "# correlation between HealthCare and Sanitation\n",
    "display(dfMerged.HealthCare.corr(dfMerged.Sanitation, method='spearman'))\n",
    "# correlation between HealthCare and SDG\n",
    "display(dfMerged.HealthCare.corr(dfMerged.SDG, method='spearman'))\n",
    "# correlation between Sanitation and QoL\n",
    "display(dfMerged.QualityOfLife.corr(dfMerged.Sanitation, method='spearman'))\n",
    "# correlation between SDG and QoL\n",
    "display(dfMerged.QualityOfLife.corr(dfMerged.SDG, method='spearman'))\n",
    "# display(dfMerged)"
   ]
  },
  {
   "cell_type": "code",
   "execution_count": 5,
   "metadata": {
    "ExecuteTime": {
     "end_time": "2020-01-25T18:18:52.152212Z",
     "start_time": "2020-01-25T18:18:51.101467Z"
    }
   },
   "outputs": [
    {
     "data": {
      "text/plain": [
       "<Figure size 936x936 with 0 Axes>"
      ]
     },
     "metadata": {},
     "output_type": "display_data"
    },
    {
     "data": {
      "image/png": "[encoded data removed]",
      "text/plain": [
       "<Figure size 360x360 with 6 Axes>"
      ]
     },
     "metadata": {
      "needs_background": "light"
     },
     "output_type": "display_data"
    }
   ],
   "source": [
    "fig = plt.figure(figsize=(13,13))\n",
    "g = sns.pairplot(dfMerged.loc[:,['Sanitation','QualityOfLife']],kind=\"reg\")\n",
    "g.fig.suptitle(\"Correlation of Sanitation Use (per country) and Numbeo Index\", y=0.97,fontsize=14)\n",
    "g.fig.subplots_adjust(top=0.85,left=0.2,bottom=0.1)\n",
    "g.fig.savefig('visuals/CorrelationWHO_Sanitation_QoL.png')"
   ]
  },
  {
   "cell_type": "code",
   "execution_count": 6,
   "metadata": {
    "ExecuteTime": {
     "end_time": "2020-01-25T18:18:52.177687Z",
     "start_time": "2020-01-25T18:18:52.153504Z"
    }
   },
   "outputs": [
    {
     "data": {
      "text/html": [
       "<table class=\"simpletable\">\n",
       "<caption>OLS Regression Results</caption>\n",
       "<tr>\n",
       "  <th>Dep. Variable:</th>      <td>QualityOfLife</td>  <th>  R-squared:         </th> <td>   0.285</td>\n",
       "</tr>\n",
       "<tr>\n",
       "  <th>Model:</th>                   <td>OLS</td>       <th>  Adj. R-squared:    </th> <td>   0.282</td>\n",
       "</tr>\n",
       "<tr>\n",
       "  <th>Method:</th>             <td>Least Squares</td>  <th>  F-statistic:       </th> <td>   86.73</td>\n",
       "</tr>\n",
       "<tr>\n",
       "  <th>Date:</th>             <td>Sat, 25 Jan 2020</td> <th>  Prob (F-statistic):</th> <td>2.00e-32</td>\n",
       "</tr>\n",
       "<tr>\n",
       "  <th>Time:</th>                 <td>18:18:52</td>     <th>  Log-Likelihood:    </th> <td> -2330.3</td>\n",
       "</tr>\n",
       "<tr>\n",
       "  <th>No. Observations:</th>      <td>   438</td>      <th>  AIC:               </th> <td>   4667.</td>\n",
       "</tr>\n",
       "<tr>\n",
       "  <th>Df Residuals:</th>          <td>   435</td>      <th>  BIC:               </th> <td>   4679.</td>\n",
       "</tr>\n",
       "<tr>\n",
       "  <th>Df Model:</th>              <td>     2</td>      <th>                     </th>     <td> </td>   \n",
       "</tr>\n",
       "<tr>\n",
       "  <th>Covariance Type:</th>      <td>nonrobust</td>    <th>                     </th>     <td> </td>   \n",
       "</tr>\n",
       "</table>\n",
       "<table class=\"simpletable\">\n",
       "<tr>\n",
       "       <td></td>         <th>coef</th>     <th>std err</th>      <th>t</th>      <th>P>|t|</th>  <th>[0.025</th>    <th>0.975]</th>  \n",
       "</tr>\n",
       "<tr>\n",
       "  <th>Intercept</th>  <td>    7.3873</td> <td>   17.757</td> <td>    0.416</td> <td> 0.678</td> <td>  -27.512</td> <td>   42.287</td>\n",
       "</tr>\n",
       "<tr>\n",
       "  <th>Sanitation</th> <td>    1.3011</td> <td>    0.106</td> <td>   12.218</td> <td> 0.000</td> <td>    1.092</td> <td>    1.510</td>\n",
       "</tr>\n",
       "<tr>\n",
       "  <th>SDG</th>        <td>    0.2319</td> <td>    0.203</td> <td>    1.144</td> <td> 0.253</td> <td>   -0.167</td> <td>    0.630</td>\n",
       "</tr>\n",
       "</table>\n",
       "<table class=\"simpletable\">\n",
       "<tr>\n",
       "  <th>Omnibus:</th>       <td>16.297</td> <th>  Durbin-Watson:     </th> <td>   0.653</td>\n",
       "</tr>\n",
       "<tr>\n",
       "  <th>Prob(Omnibus):</th> <td> 0.000</td> <th>  Jarque-Bera (JB):  </th> <td>  17.106</td>\n",
       "</tr>\n",
       "<tr>\n",
       "  <th>Skew:</th>          <td>-0.455</td> <th>  Prob(JB):          </th> <td>0.000193</td>\n",
       "</tr>\n",
       "<tr>\n",
       "  <th>Kurtosis:</th>      <td> 3.332</td> <th>  Cond. No.          </th> <td>    894.</td>\n",
       "</tr>\n",
       "</table><br/><br/>Warnings:<br/>[1] Standard Errors assume that the covariance matrix of the errors is correctly specified."
      ],
      "text/plain": [
       "<class 'statsmodels.iolib.summary.Summary'>\n",
       "\"\"\"\n",
       "                            OLS Regression Results                            \n",
       "==============================================================================\n",
       "Dep. Variable:          QualityOfLife   R-squared:                       0.285\n",
       "Model:                            OLS   Adj. R-squared:                  0.282\n",
       "Method:                 Least Squares   F-statistic:                     86.73\n",
       "Date:                Sat, 25 Jan 2020   Prob (F-statistic):           2.00e-32\n",
       "Time:                        18:18:52   Log-Likelihood:                -2330.3\n",
       "No. Observations:                 438   AIC:                             4667.\n",
       "Df Residuals:                     435   BIC:                             4679.\n",
       "Df Model:                           2                                         \n",
       "Covariance Type:            nonrobust                                         \n",
       "==============================================================================\n",
       "                 coef    std err          t      P>|t|      [0.025      0.975]\n",
       "------------------------------------------------------------------------------\n",
       "Intercept      7.3873     17.757      0.416      0.678     -27.512      42.287\n",
       "Sanitation     1.3011      0.106     12.218      0.000       1.092       1.510\n",
       "SDG            0.2319      0.203      1.144      0.253      -0.167       0.630\n",
       "==============================================================================\n",
       "Omnibus:                       16.297   Durbin-Watson:                   0.653\n",
       "Prob(Omnibus):                  0.000   Jarque-Bera (JB):               17.106\n",
       "Skew:                          -0.455   Prob(JB):                     0.000193\n",
       "Kurtosis:                       3.332   Cond. No.                         894.\n",
       "==============================================================================\n",
       "\n",
       "Warnings:\n",
       "[1] Standard Errors assume that the covariance matrix of the errors is correctly specified.\n",
       "\"\"\""
      ]
     },
     "execution_count": 6,
     "metadata": {},
     "output_type": "execute_result"
    }
   ],
   "source": [
    "# fit a model\n",
    "lm = smf.ols(formula='QualityOfLife ~ Sanitation + SDG', data=dfMerged).fit()\n",
    "# print the full summary\n",
    "lm.summary()"
   ]
  },
  {
   "cell_type": "code",
   "execution_count": 7,
   "metadata": {
    "ExecuteTime": {
     "end_time": "2020-01-25T18:18:52.192130Z",
     "start_time": "2020-01-25T18:18:52.179873Z"
    }
   },
   "outputs": [],
   "source": [
    "# Read in GDP data from WorldBank\n",
    "dfWorldbankGDP = pd.read_csv(\n",
    "    'data/Worldbank_GDP_per_capita.csv',\n",
    "    skiprows=4)\n",
    "# make Country Name into index\n",
    "dfWorldbankGDP = dfWorldbankGDP.set_index('Country Name')"
   ]
  },
  {
   "cell_type": "code",
   "execution_count": 8,
   "metadata": {
    "ExecuteTime": {
     "end_time": "2020-01-25T18:18:52.251692Z",
     "start_time": "2020-01-25T18:18:52.193448Z"
    }
   },
   "outputs": [],
   "source": [
    "# add in GDP into dfMerged\n",
    "gdp = []\n",
    "for index, row in dfMerged.iterrows():\n",
    "    country = row['Country']\n",
    "    year = row['Period'][:4]\n",
    "    try:\n",
    "        gdp.append(dfWorldbankGDP.loc[country, year])\n",
    "    except:\n",
    "        gdp.append(np.nan)\n",
    "dfMerged['GDP'] = gdp"
   ]
  },
  {
   "cell_type": "code",
   "execution_count": 9,
   "metadata": {
    "ExecuteTime": {
     "end_time": "2020-01-25T18:18:53.318457Z",
     "start_time": "2020-01-25T18:18:52.252918Z"
    }
   },
   "outputs": [
    {
     "data": {
      "text/plain": [
       "<Figure size 936x936 with 0 Axes>"
      ]
     },
     "metadata": {},
     "output_type": "display_data"
    },
    {
     "data": {
      "image/png": "[encoded data removed]",
      "text/plain": [
       "<Figure size 360x360 with 6 Axes>"
      ]
     },
     "metadata": {
      "needs_background": "light"
     },
     "output_type": "display_data"
    }
   ],
   "source": [
    "fig = plt.figure(figsize=(13,13))\n",
    "g = sns.pairplot(dfMerged.loc[:,['GDP','QualityOfLife']],kind=\"reg\")\n",
    "g.fig.suptitle(\"Correlation of GDP per capita (per country) and Numbeo Index\", y=0.97,fontsize=14)\n",
    "g.fig.subplots_adjust(top=0.85,left=0.2,bottom=0.1)\n",
    "g.fig.savefig('visuals/CorrelationGDP_QoL.png')"
   ]
  },
  {
   "cell_type": "code",
   "execution_count": 10,
   "metadata": {
    "ExecuteTime": {
     "end_time": "2020-01-25T18:18:53.343137Z",
     "start_time": "2020-01-25T18:18:53.319575Z"
    }
   },
   "outputs": [
    {
     "data": {
      "text/html": [
       "<table class=\"simpletable\">\n",
       "<caption>OLS Regression Results</caption>\n",
       "<tr>\n",
       "  <th>Dep. Variable:</th>      <td>QualityOfLife</td>  <th>  R-squared:         </th> <td>   0.413</td>\n",
       "</tr>\n",
       "<tr>\n",
       "  <th>Model:</th>                   <td>OLS</td>       <th>  Adj. R-squared:    </th> <td>   0.410</td>\n",
       "</tr>\n",
       "<tr>\n",
       "  <th>Method:</th>             <td>Least Squares</td>  <th>  F-statistic:       </th> <td>   147.8</td>\n",
       "</tr>\n",
       "<tr>\n",
       "  <th>Date:</th>             <td>Sat, 25 Jan 2020</td> <th>  Prob (F-statistic):</th> <td>2.37e-49</td>\n",
       "</tr>\n",
       "<tr>\n",
       "  <th>Time:</th>                 <td>18:18:53</td>     <th>  Log-Likelihood:    </th> <td> -2207.3</td>\n",
       "</tr>\n",
       "<tr>\n",
       "  <th>No. Observations:</th>      <td>   424</td>      <th>  AIC:               </th> <td>   4421.</td>\n",
       "</tr>\n",
       "<tr>\n",
       "  <th>Df Residuals:</th>          <td>   421</td>      <th>  BIC:               </th> <td>   4433.</td>\n",
       "</tr>\n",
       "<tr>\n",
       "  <th>Df Model:</th>              <td>     2</td>      <th>                     </th>     <td> </td>   \n",
       "</tr>\n",
       "<tr>\n",
       "  <th>Covariance Type:</th>      <td>nonrobust</td>    <th>                     </th>     <td> </td>   \n",
       "</tr>\n",
       "</table>\n",
       "<table class=\"simpletable\">\n",
       "<tr>\n",
       "       <td></td>         <th>coef</th>     <th>std err</th>      <th>t</th>      <th>P>|t|</th>  <th>[0.025</th>    <th>0.975]</th>  \n",
       "</tr>\n",
       "<tr>\n",
       "  <th>Intercept</th>  <td>   39.8463</td> <td>    7.382</td> <td>    5.398</td> <td> 0.000</td> <td>   25.336</td> <td>   54.357</td>\n",
       "</tr>\n",
       "<tr>\n",
       "  <th>Sanitation</th> <td>    0.4962</td> <td>    0.127</td> <td>    3.918</td> <td> 0.000</td> <td>    0.247</td> <td>    0.745</td>\n",
       "</tr>\n",
       "<tr>\n",
       "  <th>GDP</th>        <td>    0.0015</td> <td>    0.000</td> <td>    9.322</td> <td> 0.000</td> <td>    0.001</td> <td>    0.002</td>\n",
       "</tr>\n",
       "</table>\n",
       "<table class=\"simpletable\">\n",
       "<tr>\n",
       "  <th>Omnibus:</th>       <td>51.491</td> <th>  Durbin-Watson:     </th> <td>   0.831</td>\n",
       "</tr>\n",
       "<tr>\n",
       "  <th>Prob(Omnibus):</th> <td> 0.000</td> <th>  Jarque-Bera (JB):  </th> <td>  76.141</td>\n",
       "</tr>\n",
       "<tr>\n",
       "  <th>Skew:</th>          <td>-0.807</td> <th>  Prob(JB):          </th> <td>2.92e-17</td>\n",
       "</tr>\n",
       "<tr>\n",
       "  <th>Kurtosis:</th>      <td> 4.306</td> <th>  Cond. No.          </th> <td>1.32e+05</td>\n",
       "</tr>\n",
       "</table><br/><br/>Warnings:<br/>[1] Standard Errors assume that the covariance matrix of the errors is correctly specified.<br/>[2] The condition number is large, 1.32e+05. This might indicate that there are<br/>strong multicollinearity or other numerical problems."
      ],
      "text/plain": [
       "<class 'statsmodels.iolib.summary.Summary'>\n",
       "\"\"\"\n",
       "                            OLS Regression Results                            \n",
       "==============================================================================\n",
       "Dep. Variable:          QualityOfLife   R-squared:                       0.413\n",
       "Model:                            OLS   Adj. R-squared:                  0.410\n",
       "Method:                 Least Squares   F-statistic:                     147.8\n",
       "Date:                Sat, 25 Jan 2020   Prob (F-statistic):           2.37e-49\n",
       "Time:                        18:18:53   Log-Likelihood:                -2207.3\n",
       "No. Observations:                 424   AIC:                             4421.\n",
       "Df Residuals:                     421   BIC:                             4433.\n",
       "Df Model:                           2                                         \n",
       "Covariance Type:            nonrobust                                         \n",
       "==============================================================================\n",
       "                 coef    std err          t      P>|t|      [0.025      0.975]\n",
       "------------------------------------------------------------------------------\n",
       "Intercept     39.8463      7.382      5.398      0.000      25.336      54.357\n",
       "Sanitation     0.4962      0.127      3.918      0.000       0.247       0.745\n",
       "GDP            0.0015      0.000      9.322      0.000       0.001       0.002\n",
       "==============================================================================\n",
       "Omnibus:                       51.491   Durbin-Watson:                   0.831\n",
       "Prob(Omnibus):                  0.000   Jarque-Bera (JB):               76.141\n",
       "Skew:                          -0.807   Prob(JB):                     2.92e-17\n",
       "Kurtosis:                       4.306   Cond. No.                     1.32e+05\n",
       "==============================================================================\n",
       "\n",
       "Warnings:\n",
       "[1] Standard Errors assume that the covariance matrix of the errors is correctly specified.\n",
       "[2] The condition number is large, 1.32e+05. This might indicate that there are\n",
       "strong multicollinearity or other numerical problems.\n",
       "\"\"\""
      ]
     },
     "execution_count": 10,
     "metadata": {},
     "output_type": "execute_result"
    }
   ],
   "source": [
    "# fit a model\n",
    "lm = smf.ols(formula='QualityOfLife ~ Sanitation + GDP', data=dfMerged).fit()\n",
    "# print the full summary\n",
    "lm.summary()"
   ]
  },
  {
   "cell_type": "code",
   "execution_count": 11,
   "metadata": {
    "ExecuteTime": {
     "end_time": "2020-01-25T18:18:53.357336Z",
     "start_time": "2020-01-25T18:18:53.344264Z"
    }
   },
   "outputs": [
    {
     "data": {
      "text/plain": [
       "0.7386219841522873"
      ]
     },
     "metadata": {},
     "output_type": "display_data"
    }
   ],
   "source": [
    "# correlation between GDP and QoL\n",
    "display(dfMerged.QualityOfLife.corr(dfMerged.GDP, method='spearman'))"
   ]
  },
  {
   "cell_type": "code",
   "execution_count": 12,
   "metadata": {
    "ExecuteTime": {
     "end_time": "2020-01-25T18:18:53.372386Z",
     "start_time": "2020-01-25T18:18:53.358560Z"
    }
   },
   "outputs": [],
   "source": [
    "# Read in Emissions costs data from WorldBank\n",
    "dfWorldbankEmissions = pd.read_csv(\n",
    "    'data/Worldbank_Emissions_Damage.csv',\n",
    "    skiprows=4)\n",
    "# make Country Name into index\n",
    "dfWorldbankEmissions = dfWorldbankEmissions.set_index('Country Name')"
   ]
  },
  {
   "cell_type": "code",
   "execution_count": 13,
   "metadata": {
    "ExecuteTime": {
     "end_time": "2020-01-25T18:18:53.431843Z",
     "start_time": "2020-01-25T18:18:53.373482Z"
    }
   },
   "outputs": [],
   "source": [
    "# add in emissions damage into dfMerged\n",
    "emissions = []\n",
    "for index, row in dfMerged.iterrows():\n",
    "    country = row['Country']\n",
    "    year = row['Period'][:4]\n",
    "    try:\n",
    "        emissions.append(dfWorldbankEmissions.loc[country, year])\n",
    "    except:\n",
    "        emissions.append(np.nan)\n",
    "dfMerged['Emissions'] = emissions"
   ]
  },
  {
   "cell_type": "code",
   "execution_count": 14,
   "metadata": {
    "ExecuteTime": {
     "end_time": "2020-01-25T18:18:54.474427Z",
     "start_time": "2020-01-25T18:18:53.433005Z"
    }
   },
   "outputs": [
    {
     "data": {
      "text/plain": [
       "<Figure size 936x936 with 0 Axes>"
      ]
     },
     "metadata": {},
     "output_type": "display_data"
    },
    {
     "data": {
      "image/png": "[encoded data removed]",
      "text/plain": [
       "<Figure size 360x360 with 6 Axes>"
      ]
     },
     "metadata": {
      "needs_background": "light"
     },
     "output_type": "display_data"
    }
   ],
   "source": [
    "fig = plt.figure(figsize=(13,13))\n",
    "g = sns.pairplot(dfMerged.loc[:,['Emissions','QualityOfLife']],kind=\"reg\")\n",
    "g.fig.suptitle(\"Correlation of Emissions costs (per country) and Numbeo Index\", y=0.97,fontsize=14)\n",
    "g.fig.subplots_adjust(top=0.85,left=0.2,bottom=0.1)\n",
    "g.fig.savefig('visuals/CorrelationEmissions_QoL.png')"
   ]
  },
  {
   "cell_type": "code",
   "execution_count": 15,
   "metadata": {
    "ExecuteTime": {
     "end_time": "2020-01-25T18:18:54.480119Z",
     "start_time": "2020-01-25T18:18:54.475610Z"
    }
   },
   "outputs": [
    {
     "data": {
      "text/plain": [
       "-0.6874969066262762"
      ]
     },
     "metadata": {},
     "output_type": "display_data"
    }
   ],
   "source": [
    "# correlation between Emissions and QoL\n",
    "display(dfMerged.QualityOfLife.corr(dfMerged.Emissions, method='spearman'))"
   ]
  },
  {
   "cell_type": "code",
   "execution_count": 16,
   "metadata": {
    "ExecuteTime": {
     "end_time": "2020-01-25T18:18:54.515550Z",
     "start_time": "2020-01-25T18:18:54.481270Z"
    }
   },
   "outputs": [
    {
     "data": {
      "text/html": [
       "<table class=\"simpletable\">\n",
       "<caption>OLS Regression Results</caption>\n",
       "<tr>\n",
       "  <th>Dep. Variable:</th>      <td>QualityOfLife</td>  <th>  R-squared:         </th> <td>   0.442</td>\n",
       "</tr>\n",
       "<tr>\n",
       "  <th>Model:</th>                   <td>OLS</td>       <th>  Adj. R-squared:    </th> <td>   0.437</td>\n",
       "</tr>\n",
       "<tr>\n",
       "  <th>Method:</th>             <td>Least Squares</td>  <th>  F-statistic:       </th> <td>   108.3</td>\n",
       "</tr>\n",
       "<tr>\n",
       "  <th>Date:</th>             <td>Sat, 25 Jan 2020</td> <th>  Prob (F-statistic):</th> <td>1.09e-51</td>\n",
       "</tr>\n",
       "<tr>\n",
       "  <th>Time:</th>                 <td>18:18:54</td>     <th>  Log-Likelihood:    </th> <td> -2154.2</td>\n",
       "</tr>\n",
       "<tr>\n",
       "  <th>No. Observations:</th>      <td>   415</td>      <th>  AIC:               </th> <td>   4316.</td>\n",
       "</tr>\n",
       "<tr>\n",
       "  <th>Df Residuals:</th>          <td>   411</td>      <th>  BIC:               </th> <td>   4333.</td>\n",
       "</tr>\n",
       "<tr>\n",
       "  <th>Df Model:</th>              <td>     3</td>      <th>                     </th>     <td> </td>   \n",
       "</tr>\n",
       "<tr>\n",
       "  <th>Covariance Type:</th>      <td>nonrobust</td>    <th>                     </th>     <td> </td>   \n",
       "</tr>\n",
       "</table>\n",
       "<table class=\"simpletable\">\n",
       "<tr>\n",
       "       <td></td>         <th>coef</th>     <th>std err</th>      <th>t</th>      <th>P>|t|</th>  <th>[0.025</th>    <th>0.975]</th>  \n",
       "</tr>\n",
       "<tr>\n",
       "  <th>Intercept</th>  <td>   84.7883</td> <td>   12.145</td> <td>    6.981</td> <td> 0.000</td> <td>   60.914</td> <td>  108.663</td>\n",
       "</tr>\n",
       "<tr>\n",
       "  <th>Sanitation</th> <td>    0.2822</td> <td>    0.135</td> <td>    2.087</td> <td> 0.037</td> <td>    0.016</td> <td>    0.548</td>\n",
       "</tr>\n",
       "<tr>\n",
       "  <th>GDP</th>        <td>    0.0012</td> <td>    0.000</td> <td>    6.669</td> <td> 0.000</td> <td>    0.001</td> <td>    0.002</td>\n",
       "</tr>\n",
       "<tr>\n",
       "  <th>Emissions</th>  <td> -142.6925</td> <td>   30.838</td> <td>   -4.627</td> <td> 0.000</td> <td> -203.312</td> <td>  -82.073</td>\n",
       "</tr>\n",
       "</table>\n",
       "<table class=\"simpletable\">\n",
       "<tr>\n",
       "  <th>Omnibus:</th>       <td>29.841</td> <th>  Durbin-Watson:     </th> <td>   0.829</td>\n",
       "</tr>\n",
       "<tr>\n",
       "  <th>Prob(Omnibus):</th> <td> 0.000</td> <th>  Jarque-Bera (JB):  </th> <td>  38.310</td>\n",
       "</tr>\n",
       "<tr>\n",
       "  <th>Skew:</th>          <td>-0.580</td> <th>  Prob(JB):          </th> <td>4.80e-09</td>\n",
       "</tr>\n",
       "<tr>\n",
       "  <th>Kurtosis:</th>      <td> 3.933</td> <th>  Cond. No.          </th> <td>5.82e+05</td>\n",
       "</tr>\n",
       "</table><br/><br/>Warnings:<br/>[1] Standard Errors assume that the covariance matrix of the errors is correctly specified.<br/>[2] The condition number is large, 5.82e+05. This might indicate that there are<br/>strong multicollinearity or other numerical problems."
      ],
      "text/plain": [
       "<class 'statsmodels.iolib.summary.Summary'>\n",
       "\"\"\"\n",
       "                            OLS Regression Results                            \n",
       "==============================================================================\n",
       "Dep. Variable:          QualityOfLife   R-squared:                       0.442\n",
       "Model:                            OLS   Adj. R-squared:                  0.437\n",
       "Method:                 Least Squares   F-statistic:                     108.3\n",
       "Date:                Sat, 25 Jan 2020   Prob (F-statistic):           1.09e-51\n",
       "Time:                        18:18:54   Log-Likelihood:                -2154.2\n",
       "No. Observations:                 415   AIC:                             4316.\n",
       "Df Residuals:                     411   BIC:                             4333.\n",
       "Df Model:                           3                                         \n",
       "Covariance Type:            nonrobust                                         \n",
       "==============================================================================\n",
       "                 coef    std err          t      P>|t|      [0.025      0.975]\n",
       "------------------------------------------------------------------------------\n",
       "Intercept     84.7883     12.145      6.981      0.000      60.914     108.663\n",
       "Sanitation     0.2822      0.135      2.087      0.037       0.016       0.548\n",
       "GDP            0.0012      0.000      6.669      0.000       0.001       0.002\n",
       "Emissions   -142.6925     30.838     -4.627      0.000    -203.312     -82.073\n",
       "==============================================================================\n",
       "Omnibus:                       29.841   Durbin-Watson:                   0.829\n",
       "Prob(Omnibus):                  0.000   Jarque-Bera (JB):               38.310\n",
       "Skew:                          -0.580   Prob(JB):                     4.80e-09\n",
       "Kurtosis:                       3.933   Cond. No.                     5.82e+05\n",
       "==============================================================================\n",
       "\n",
       "Warnings:\n",
       "[1] Standard Errors assume that the covariance matrix of the errors is correctly specified.\n",
       "[2] The condition number is large, 5.82e+05. This might indicate that there are\n",
       "strong multicollinearity or other numerical problems.\n",
       "\"\"\""
      ]
     },
     "execution_count": 16,
     "metadata": {},
     "output_type": "execute_result"
    }
   ],
   "source": [
    "# fit a model\n",
    "lm = smf.ols(\n",
    "    formula='QualityOfLife ~ Sanitation + GDP + Emissions',\n",
    "    data=dfMerged).fit()\n",
    "# print the full summary\n",
    "lm.summary()"
   ]
  },
  {
   "cell_type": "code",
   "execution_count": null,
   "metadata": {},
   "outputs": [],
   "source": []
  }
 ],
 "metadata": {
  "kernelspec": {
   "display_name": "Python 3",
   "language": "python",
   "name": "python3"
  },
  "language_info": {
   "codemirror_mode": {
    "name": "ipython",
    "version": 3
   },
   "file_extension": ".py",
   "mimetype": "text/x-python",
   "name": "python",
   "nbconvert_exporter": "python",
   "pygments_lexer": "ipython3",
   "version": "3.6.9"
  }
 },
 "nbformat": 4,
 "nbformat_minor": 4
}
