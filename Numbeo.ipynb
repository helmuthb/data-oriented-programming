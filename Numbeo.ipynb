{
 "cells": [
  {
   "cell_type": "markdown",
   "metadata": {},
   "source": [
    "## Scope of Exercise 3\n",
    "\n",
    "The goal of this project is to collect data about cities and countries, clean and merge the data to answer the following questions:\n",
    "\n",
    "* How do the rankings change over time?\n",
    "* How do these rankings correlate with each other for one specific year?\n",
    "* How do they correlate with other statistics about the countries in which\n",
    "  the cities are located?\n",
    "* How do they correlate with quality of life rankings of the country\n",
    "  in which the cities are located?\n",
    "* What are the determining characteristics for livability of a city?\n",
    "  How do they correlate with cost of living?"
   ]
  },
  {
   "cell_type": "markdown",
   "metadata": {},
   "source": [
    "## Imports"
   ]
  },
  {
   "cell_type": "code",
   "execution_count": null,
   "metadata": {
    "ExecuteTime": {
     "end_time": "2020-01-25T21:34:31.111387Z",
     "start_time": "2020-01-25T21:34:30.440757Z"
    }
   },
   "outputs": [],
   "source": [
    "import pandas as pd\n",
    "import numpy as np\n",
    "import seaborn as sns\n",
    "import matplotlib.pyplot as plt\n",
    "from scipy.stats import spearmanr\n",
    "import statsmodels.formula.api as smf"
   ]
  },
  {
   "cell_type": "markdown",
   "metadata": {},
   "source": [
    "## Load Data"
   ]
  },
  {
   "cell_type": "markdown",
   "metadata": {},
   "source": [
    "### Numbeo Cities"
   ]
  },
  {
   "cell_type": "code",
   "execution_count": null,
   "metadata": {
    "ExecuteTime": {
     "end_time": "2020-01-25T21:34:31.144992Z",
     "start_time": "2020-01-25T21:34:31.113015Z"
    }
   },
   "outputs": [],
   "source": [
    "# from https://www.numbeo.com/quality-of-life/rankings_by_country.jsp?title=2012-Q1\n",
    "dfNumbeo = pd.read_csv(r\"data/Numbeo.csv\",sep=\";\",decimal=\",\")\n",
    "dfNumbeo.columns = ['Period', 'City', 'NumbeoIndex', 'PurchasingPower', 'Safety', 'HealthCare', 'CostOfLiving', 'PropertyPriceToIncomeRatio', 'TrafficCommuteTime','Pollution', 'Climate']\n",
    "\n",
    "dfNumbeo[['City','Country','Country2']] = dfNumbeo['City'].str.split(',',expand=True)\n",
    "dfNumbeo['City'] = dfNumbeo.City.str.strip()\n",
    "dfNumbeo['Country'] = dfNumbeo.Country.str.strip()\n",
    "dfNumbeo.set_index('City',inplace=True, drop=False)\n",
    "# fix of USA cities/country\n",
    "dfNumbeo.loc['San Francisco','Country'] = \"United States\"\n",
    "dfNumbeo.loc['Los Angeles','Country'] = \"United States\"\n",
    "dfNumbeo.loc['New York','Country'] = \"United States\"\n",
    "\n",
    "# why does it introduce another column?\n",
    "# dfNumbeo.to_csv(\"numbeoprocessed.csv\", index=False)\n",
    "# Answer: United States is part of the city name, so dropping this column...\n",
    "dfNumbeo.drop('Country2', axis=1, inplace=True)\n",
    "\n",
    "dfNumbeo2012 = dfNumbeo.set_index('Period').loc['2012-Q1',:]\n",
    "dfNumbeo2012.reset_index(inplace=True)\n",
    "dfNumbeo2012['Country'] = dfNumbeo2012.Country.str.strip()\n",
    "dfNumbeo2012.set_index('City',inplace=True, drop=False)\n",
    "dfNumbeo2012[\"NumbeoRank\"] = dfNumbeo2012[\"NumbeoIndex\"].rank(ascending=False) "
   ]
  },
  {
   "cell_type": "markdown",
   "metadata": {},
   "source": [
    "### Mercer Cities"
   ]
  },
  {
   "cell_type": "code",
   "execution_count": null,
   "metadata": {
    "ExecuteTime": {
     "end_time": "2020-01-25T21:34:31.152753Z",
     "start_time": "2020-01-25T21:34:31.146471Z"
    }
   },
   "outputs": [],
   "source": [
    "##loading mercer data extracted from https://en.wikipedia.org/wiki/Mercer_Quality_of_Living_Survey\n",
    "dfMercer = pd.read_csv('data/Mercer.csv')\n",
    "dfMercer.columns = ['City','Country','MercerIndex','Year','MercerRank']\n",
    "\n",
    "dfMercer2012 = dfMercer.loc[dfMercer['Year']== 2012,:]\n",
    "dfMercer2012.set_index('City',inplace=True, drop=False)"
   ]
  },
  {
   "cell_type": "markdown",
   "metadata": {},
   "source": [
    "### UN Prosperity Cities"
   ]
  },
  {
   "cell_type": "code",
   "execution_count": null,
   "metadata": {
    "ExecuteTime": {
     "end_time": "2020-01-25T21:34:31.160522Z",
     "start_time": "2020-01-25T21:34:31.153962Z"
    }
   },
   "outputs": [],
   "source": [
    "#Source: United Nations Human Settlements Programme (UN-Habitat), Global Urban Indicators Database 2012.\n",
    "dfProsperity2012 = pd.read_csv('data/city-prosperity-index_country.csv')\n",
    "dfProsperity2012.columns = ['Country','City','Cpi5','Cpi4','Productivity','QoLUN','Infrastructure','Environment','Equity']\n",
    "\n",
    "dfProsperity2012 = dfProsperity2012.set_index('City', drop=False)\n",
    "dfProsperity2012[\"UNRank\"] = dfProsperity2012[\"QoLUN\"].rank(ascending=False)"
   ]
  },
  {
   "cell_type": "markdown",
   "metadata": {},
   "source": [
    "### Human Development Index (HDI) Countries"
   ]
  },
  {
   "cell_type": "code",
   "execution_count": null,
   "metadata": {
    "ExecuteTime": {
     "end_time": "2020-01-25T21:34:31.185087Z",
     "start_time": "2020-01-25T21:34:31.161684Z"
    },
    "scrolled": true
   },
   "outputs": [],
   "source": [
    "# from http://hdr.undp.org/en/data#\n",
    "hdi = pd.read_csv('./data/human-development-index.csv', header=1)\n",
    "\n",
    "hdi[\"HDIRank(2012)\"] = hdi[\"2012\"].rank(method='dense', ascending=False)\n",
    "\n",
    "# convert countries to numbeo notation\n",
    "hdi.loc[hdi['Country'] == 'Czechia', 'Country'] = 'Czech Republic'\n",
    "hdi.loc[hdi['Country'] == 'Iran (Islamic Republic of)', 'Country'] = 'Iran'\n",
    "hdi.loc[hdi['Country'] == 'Russian Federation', 'Country'] = 'Russia'\n",
    "hdi.loc[hdi['Country'] == 'Bolivia (Plurinational State of)', 'Country'] = 'Bolivia'\n",
    "hdi.loc[hdi['Country'] == 'Moldova (Republic of)', 'Country'] = 'Moldova'\n",
    "hdi.loc[hdi['Country'] == 'Korea (Republic of)', 'Country'] = 'Republic of Korea'\n",
    "hdi.loc[hdi['Country'] == 'Tanzania (United Republic of)', 'Country'] = 'United Republic of Tanzania'"
   ]
  },
  {
   "cell_type": "markdown",
   "metadata": {},
   "source": [
    "### Numbeo Countries"
   ]
  },
  {
   "cell_type": "code",
   "execution_count": null,
   "metadata": {
    "ExecuteTime": {
     "end_time": "2020-01-25T21:34:31.191674Z",
     "start_time": "2020-01-25T21:34:31.186286Z"
    }
   },
   "outputs": [],
   "source": [
    "dfNumbeo2012Countries = pd.read_csv(r\"./data/numbeo-by-country.csv\", header=0)\n",
    "dfNumbeo2012Countries[\"NumbeoCountryRank\"] = dfNumbeo2012Countries[\"Rank\"]"
   ]
  },
  {
   "cell_type": "markdown",
   "metadata": {},
   "source": [
    "### Gapminder Datasets\n",
    "\n",
    "#### Life Expectancy\n",
    "The average number of years a newborn child would live if current mortality patterns were to stay the same\n",
    "[Source](http://gapm.io/ilex)\n",
    "\n",
    "#### CO2 Emissions\n",
    "Carbon dioxide emissions from the burning of fossil fuels (mteric tonnes of CO2 per person). [Source](https://cdiac.ess-dive.lbl.gov/), [Source](http://gapm.io/ilex)\n",
    "\n",
    "#### Gross domestic income per person\n",
    "Gross domestic product per person adjusted for differences in purchasing power (in international dollars, fixed 2011 prices, PPP based on 2011 ICP). [Source](http://gapm.io/dgdppc)\n",
    "\n",
    "#### Children per woman\n",
    "Total fertility rate. The number of children that would be born to each women with prevailing age-specific fertility rates [Source](http://gapm.io/dtfr)\n",
    "\n",
    "#### Number of child deaths\n",
    "The number of children dying before age 5. [Source](https://www.who.int/healthinfo/global_burden_disease/en/)\n",
    "\n",
    "#### Population total\n",
    "Total population of the country [Source](http://gapm.io/dpop)\n",
    "\n",
    "#### Unemployment rates\n",
    "- Age 15+: Percentage of total polulation, age group above 15, that has been registered as unemployed during the given year [Source](https://www.ilo.org/ilostat/)\n",
    "- Age 15-24: Percentage of total polulation, age group 15-24, that has been registered as unemployed during the given year [Source](https://www.ilo.org/ilostat/)\n",
    "- Age 25-54: Percentage of total polulation, age group 25-54, that has been registered as unemployed during the given year [Source](https://www.ilo.org/ilostat/)\n",
    "- Age 55-64: Percentage of total polulation, age group 55-64, that has been registered as unemployed during the given year [Source](https://www.ilo.org/ilostat/)\n",
    "- Age 64+: Percentage of total polulation, age group above 65, that has been registered as unemployed during the given year [Source](https://www.ilo.org/ilostat/)"
   ]
  },
  {
   "cell_type": "code",
   "execution_count": null,
   "metadata": {
    "ExecuteTime": {
     "end_time": "2020-01-25T21:34:31.404604Z",
     "start_time": "2020-01-25T21:34:31.193555Z"
    }
   },
   "outputs": [],
   "source": [
    "dfGapminder = pd.read_csv(r\"data/gapminder_life_expectancy_years.csv\",sep=\",\",decimal=\".\")\n",
    "dfLifeExpectancyYears = dfGapminder.iloc[:,[0,-7]]\n",
    "dfLifeExpectancyYears = dfLifeExpectancyYears.rename(columns={'2012': 'life_expectancy_[years]'})\n",
    "\n",
    "dfGapminder = pd.read_csv(r\"data/gapminder_co2_emissions_tonnes_per_person.csv\",sep=\",\",decimal=\".\")\n",
    "dfCo2Emissions = dfGapminder.iloc[:,[0,-3]]\n",
    "dfCo2Emissions = dfCo2Emissions.rename(columns={'2012': 'co2_emissions_year_[tons]'})\n",
    "\n",
    "dfGapminder = pd.read_csv(r\"data/gapminder_income_per_person_gdppercapita_ppp_inflation_adjusted.csv\",sep=\",\",decimal=\".\")\n",
    "dfIncome = dfGapminder.iloc[:,[0,-29]]\n",
    "dfIncome = dfIncome.rename(columns={'2012': 'income_per_person'})\n",
    "\n",
    "dfGapminder = pd.read_csv(r\"data/gapminder_children_per_woman_total_fertility.csv\",sep=\",\",decimal=\".\")\n",
    "dfFertility = dfGapminder.iloc[:,[0,-7]]\n",
    "dfFertility = dfFertility.rename(columns={'2012': 'fertility_children_per_woman'})\n",
    "\n",
    "dfGapminder = pd.read_csv(r\"data/gapminder_number_of_child_deaths.csv\",sep=\",\",decimal=\".\")\n",
    "dfChildDeaths = dfGapminder.iloc[:,[0,-4]]\n",
    "dfChildDeaths = dfChildDeaths.rename(columns={'2012': 'child_deaths'})\n",
    "\n",
    "dfGapminder = pd.read_csv(r\"data/gapminder_population_total.csv\",sep=\",\",decimal=\".\")\n",
    "dfPopulation = dfGapminder.iloc[:,[0,-89]]\n",
    "dfPopulation = dfPopulation.rename(columns={'2012': 'population_total'})\n",
    "\n",
    "dfGapminder = pd.read_csv(r\"data/gapminder_aged_15plus_unemployment_rate_percent.csv\",sep=\",\",decimal=\".\")\n",
    "filled = dfGapminder.iloc[:,1:].fillna(method=\"ffill\", axis=1).fillna(method=\"bfill\", axis=1)\n",
    "filled['country'] = dfGapminder.iloc[:,0]\n",
    "dfUnemployment15plus = filled.iloc[:,[-1, -7]]\n",
    "dfUnemployment15plus = dfUnemployment15plus.rename(columns={'2012': 'unemployment_15plus'})\n",
    "\n",
    "dfGapminder = pd.read_csv(r\"data/gapminder_aged_15_24_unemployment_rate_percent.csv\",sep=\",\",decimal=\".\")\n",
    "filled = dfGapminder.iloc[:,1:].fillna(method=\"ffill\", axis=1).fillna(method=\"bfill\", axis=1)\n",
    "filled['country'] = dfGapminder.iloc[:,0]\n",
    "dfUnemployment15_24 = filled.iloc[:,[-1, -7]]\n",
    "dfUnemployment15_24 = dfUnemployment15_24.rename(columns={'2012': 'unemployment_15_24'})\n",
    "\n",
    "dfGapminder = pd.read_csv(r\"data/gapminder_aged_25_54_unemployment_rate_percent.csv\",sep=\",\",decimal=\".\")\n",
    "filled = dfGapminder.iloc[:,1:].fillna(method=\"ffill\", axis=1).fillna(method=\"bfill\", axis=1)\n",
    "filled['country'] = dfGapminder.iloc[:,0]\n",
    "dfUnemployment25_54 = filled.iloc[:,[-1, -7]]\n",
    "dfUnemployment25_54 = dfUnemployment25_54.rename(columns={'2012': 'unemployment_25_54'})\n",
    "\n",
    "dfGapminder = pd.read_csv(r\"data/gapminder_aged_55_64_unemployment_rate_percent.csv\",sep=\",\",decimal=\".\")\n",
    "filled = dfGapminder.iloc[:,1:].fillna(method=\"ffill\", axis=1).fillna(method=\"bfill\", axis=1)\n",
    "filled['country'] = dfGapminder.iloc[:,0]\n",
    "dfUnemployment55_64 = filled.iloc[:,[-1, -7]]\n",
    "dfUnemployment55_64 = dfUnemployment55_64.rename(columns={'2012': 'unemployment_55_64'})\n",
    "\n",
    "dfGapminder = pd.read_csv(r\"data/gapminder_aged_65plus_unemployment_rate_percent.csv\",sep=\",\",decimal=\".\")\n",
    "filled = dfGapminder.iloc[:,1:].fillna(method=\"ffill\", axis=1).fillna(method=\"bfill\", axis=1)\n",
    "filled['country'] = dfGapminder.iloc[:,0]\n",
    "dfUnemployment65plus = filled.iloc[:,[-1, -7]]\n",
    "dfUnemployment65plus = dfUnemployment65plus.rename(columns={'2012': 'unemployment_65plus'})\n"
   ]
  },
  {
   "cell_type": "code",
   "execution_count": null,
   "metadata": {
    "ExecuteTime": {
     "end_time": "2020-01-25T21:34:31.447337Z",
     "start_time": "2020-01-25T21:34:31.406312Z"
    }
   },
   "outputs": [],
   "source": [
    "# merge dataset\n",
    "dfGapminder = dfPopulation.merge(dfChildDeaths, how='left', left_on='country', right_on='country') \n",
    "dfGapminder = dfGapminder.merge(dfIncome, how='left', left_on='country', right_on='country') \n",
    "dfGapminder = dfGapminder.merge(dfCo2Emissions, how='left', left_on='country', right_on='country') \n",
    "dfGapminder = dfGapminder.merge(dfLifeExpectancyYears, how='left', left_on='country', right_on='country') \n",
    "dfGapminder = dfGapminder.merge(dfFertility, how='left', left_on='country', right_on='country') \n",
    "dfGapminder = dfGapminder.merge(dfUnemployment15plus, how='left', left_on='country', right_on='country') \n",
    "dfGapminder = dfGapminder.merge(dfUnemployment15_24, how='left', left_on='country', right_on='country') \n",
    "dfGapminder = dfGapminder.merge(dfUnemployment25_54, how='left', left_on='country', right_on='country') \n",
    "dfGapminder = dfGapminder.merge(dfUnemployment55_64, how='left', left_on='country', right_on='country') \n",
    "dfGapminder = dfGapminder.merge(dfUnemployment65plus, how='left', left_on='country', right_on='country')\n",
    "\n",
    "dfGapminder = dfGapminder.dropna()\n",
    "# print(dfGapminder.shape)\n",
    "dfGapminder.loc[:, 'country'] = dfGapminder['country'].str.strip()"
   ]
  },
  {
   "cell_type": "code",
   "execution_count": null,
   "metadata": {
    "ExecuteTime": {
     "end_time": "2020-01-25T21:34:31.470479Z",
     "start_time": "2020-01-25T21:34:31.448558Z"
    }
   },
   "outputs": [],
   "source": [
    "# create ranks\n",
    "dfGapminder.loc[:, 'rank_population'] = dfGapminder['population_total'].rank(ascending=False)\n",
    "dfGapminder.loc[:, 'rank_child_deaths'] = dfGapminder['child_deaths'].rank(ascending=False)\n",
    "dfGapminder.loc[:, 'rank_income_per_person'] = dfGapminder['income_per_person'].rank(ascending=False)\n",
    "dfGapminder.loc[:, 'rank_co2_emissions'] = dfGapminder['co2_emissions_year_[tons]'].rank(ascending=False)\n",
    "dfGapminder.loc[:, 'rank_life_expectancy'] = dfGapminder['life_expectancy_[years]'].rank(ascending=False)\n",
    "dfGapminder.loc[:, 'rank_fertility'] = dfGapminder['fertility_children_per_woman'].rank(ascending=False)\n",
    "dfGapminder.loc[:, 'rank_unemployment_15plus'] = dfGapminder['unemployment_15plus'].rank(ascending=False)\n",
    "dfGapminder.loc[:, 'rank_unemployment_15_24'] = dfGapminder['unemployment_15_24'].rank(ascending=False)\n",
    "dfGapminder.loc[:, 'rank_unemployment_25_54'] = dfGapminder['unemployment_25_54'].rank(ascending=False)\n",
    "dfGapminder.loc[:, 'rank_unemployment_55_64'] = dfGapminder['unemployment_55_64'].rank(ascending=False)\n",
    "dfGapminder.loc[:, 'rank_unemployment_65plus'] = dfGapminder['unemployment_65plus'].rank(ascending=False)"
   ]
  },
  {
   "cell_type": "markdown",
   "metadata": {},
   "source": [
    "### WHO Data Sets\n",
    "\n",
    "These datasets are available per country.\n",
    "To identify a country the _ISO 3166-1 alpha-3 codes_ are used (field `COUNTRY`).\n",
    "\n",
    "#### Sanitation\n",
    "\n",
    "This dataset provides the usage of safely managed sanitation services\n",
    "in percent of the population.\n",
    "It is separated between the percentage in urban areas and in rural areas,\n",
    "where we have used the urban-related ratio only.\n",
    "\n",
    "#### Health Regulations Capacity\n",
    "\n",
    "This dataset provides the average of 13 International Health Regulations\n",
    "core capacity scores, based on the Sustainable Development Goals of the UN.\n",
    "\n",
    "#### Helper Table: ISO Codes\n",
    "\n",
    "To merge the tables with the rankings we added a table with country ISO codes."
   ]
  },
  {
   "cell_type": "code",
   "execution_count": null,
   "metadata": {
    "ExecuteTime": {
     "end_time": "2020-01-25T21:34:31.499578Z",
     "start_time": "2020-01-25T21:34:31.471649Z"
    }
   },
   "outputs": [],
   "source": [
    "# Read in WHO data: Usage of safely managed sanitation services\n",
    "dfWHO_sanitation = pd.read_csv('data/WHO_WSH_SANITATION_SAFELY_MANAGED.csv')\n",
    "# Read in WHO data: sustainable development goals\n",
    "dfWHO_SDG = pd.read_csv('data/WHO_SDGIHR.csv')\n",
    "# Read in table of ISO codes\n",
    "dfISO = pd.read_csv('data/country-iso.csv')\n",
    "dfISO = dfISO.set_index('alpha-3')\n",
    "# Enrich WHO data with country names\n",
    "dfWHO_sanitation = dfWHO_sanitation.join(\n",
    "    dfISO['name'], on='COUNTRY', how='inner')\n",
    "dfWHO_SDG = dfWHO_SDG.join(\n",
    "    dfISO['name'], on='COUNTRY', how='inner')\n",
    "# filter for urban area (sanitation only)\n",
    "# only use columns year and numeric\n",
    "dfWHO_sanitation = dfWHO_sanitation.loc[\n",
    "    dfWHO_sanitation.RESIDENCEAREATYPE == 'URB',\n",
    "    ['name', 'YEAR', 'Numeric']]\n",
    "dfWHO_SDG = dfWHO_SDG.loc[:, ['name', 'YEAR', 'Numeric']]"
   ]
  },
  {
   "cell_type": "markdown",
   "metadata": {},
   "source": [
    "### WorldBank Data\n",
    "\n",
    "#### GDP for all years - purchase-power adjusted\n",
    "\n",
    "This data is similar to the GDP data downloaded via Gap Minder.\n",
    "This time however the prices are not adjusted for the 2011 value but\n",
    "only adjusted for purchase power.\n",
    "\n",
    "#### Relative Costs of Emissions\n",
    "\n",
    "This data is created by WorldBank to estimate the costs of emissions\n",
    "in the countries, relative to the net income of the population."
   ]
  },
  {
   "cell_type": "code",
   "execution_count": null,
   "metadata": {
    "ExecuteTime": {
     "end_time": "2020-01-25T21:34:31.536060Z",
     "start_time": "2020-01-25T21:34:31.503309Z"
    }
   },
   "outputs": [],
   "source": [
    "# Read in GDP data from WorldBank\n",
    "dfWorldbankGDP = pd.read_csv(\n",
    "    'data/Worldbank_GDP_per_capita.csv',\n",
    "    skiprows=4)\n",
    "# make Country Name into index\n",
    "dfWorldbankGDP = dfWorldbankGDP.set_index('Country Name')\n",
    "# Read in Emissions costs data from WorldBank\n",
    "dfWorldbankEmissions = pd.read_csv(\n",
    "    'data/Worldbank_Emissions_Damage.csv',\n",
    "    skiprows=4)\n",
    "# make Country Name into index\n",
    "dfWorldbankEmissions = dfWorldbankEmissions.set_index('Country Name')"
   ]
  },
  {
   "cell_type": "code",
   "execution_count": null,
   "metadata": {
    "ExecuteTime": {
     "end_time": "2020-01-25T21:34:31.544280Z",
     "start_time": "2020-01-25T21:34:31.537259Z"
    }
   },
   "outputs": [],
   "source": [
    "def print_heatmap(df, title):\n",
    "    fig = plt.figure(figsize=(15,15))\n",
    "    fig.suptitle(title, fontsize='x-large', fontweight='bold', y=0.93)\n",
    "    g = sns.heatmap(df.corr(), vmin=-1, cmap='coolwarm', annot=True);\n",
    "    plt.xlabel('', fontsize=14)\n",
    "    plt.ylabel('', fontsize=14);\n",
    "    g.set_xticklabels(g.get_xticklabels(), rotation=30, horizontalalignment='right')\n",
    "    file_name = title.replace(' ', '_')\n",
    "    fig.savefig(f'visuals/heatmap_{file_name}.png')\n",
    "    \n",
    "def print_scattermatrix(df, title):\n",
    "    fig = plt.figure(figsize=(15,15))\n",
    "    fig.suptitle(title, fontsize='x-large', fontweight='bold', y=0.93)\n",
    "    g = sns.pairplot(df, kind=\"reg\")\n",
    "    plt.xlabel('', fontsize=14)\n",
    "    plt.ylabel('', fontsize=14);\n",
    "    file_name = title.replace(' ', '_')\n",
    "    fig.savefig(f'visuals/scattermatrix_{file_name}.png')"
   ]
  },
  {
   "cell_type": "markdown",
   "metadata": {},
   "source": [
    "Correlations with Mercer"
   ]
  },
  {
   "cell_type": "code",
   "execution_count": null,
   "metadata": {
    "ExecuteTime": {
     "end_time": "2020-01-25T21:34:31.554295Z",
     "start_time": "2020-01-25T21:34:31.545488Z"
    }
   },
   "outputs": [],
   "source": [
    "rank_columns = ['country', 'rank_population', 'rank_child_deaths', 'rank_income_per_person', 'rank_co2_emissions', 'rank_life_expectancy', 'rank_fertility', 'rank_unemployment_15plus', 'rank_unemployment_15_24', 'rank_unemployment_25_54', 'rank_unemployment_55_64', 'rank_unemployment_65plus']\n",
    "dfMergedMercer = dfMercer2012.merge(dfGapminder[rank_columns], how='left', left_on='Country', right_on='country') \n",
    "# print(dfMergedMercer.shape)\n",
    "dfMergedMercer.set_index('City',inplace=True)\n",
    "# dfMergedMercer"
   ]
  },
  {
   "cell_type": "markdown",
   "metadata": {},
   "source": [
    "Print correlations of rankings"
   ]
  },
  {
   "cell_type": "code",
   "execution_count": null,
   "metadata": {
    "ExecuteTime": {
     "end_time": "2020-01-25T21:34:55.959042Z",
     "start_time": "2020-01-25T21:34:31.555512Z"
    },
    "scrolled": false
   },
   "outputs": [],
   "source": [
    "# population, gdp, co2, child_deaths, life_expectency, fertility stats\n",
    "rank_columns = ['MercerRank', 'rank_population', 'rank_child_deaths', 'rank_income_per_person', 'rank_co2_emissions', 'rank_life_expectancy', 'rank_fertility']\n",
    "print_scattermatrix(dfMergedMercer.loc[:,rank_columns], \"Correlation of Mercer City and Gapminder Rankings\")\n",
    "print_heatmap(dfMergedMercer.loc[:,rank_columns], 'Correlation between Mercer City rank and Gapminder Rankings')\n",
    "# unemployment stats\n",
    "rank_columns = ['MercerRank', 'rank_unemployment_15plus', 'rank_unemployment_15_24', 'rank_unemployment_25_54', 'rank_unemployment_55_64', 'rank_unemployment_65plus']\n",
    "print_scattermatrix(dfMergedMercer.loc[:,rank_columns], 'Correlation between Mercer City rank and Gapminder Unemployment Rankings')\n",
    "print_heatmap(dfMergedMercer.loc[:,rank_columns], 'Correlation between Mercer City rank and Gapminder Unemployment Rankings')"
   ]
  },
  {
   "cell_type": "markdown",
   "metadata": {},
   "source": [
    "Correlations with Numbeo"
   ]
  },
  {
   "cell_type": "code",
   "execution_count": null,
   "metadata": {
    "ExecuteTime": {
     "end_time": "2020-01-25T21:34:55.967862Z",
     "start_time": "2020-01-25T21:34:55.960255Z"
    },
    "scrolled": false
   },
   "outputs": [],
   "source": [
    "rank_columns = ['country', 'rank_population', 'rank_child_deaths', 'rank_income_per_person', 'rank_co2_emissions', 'rank_life_expectancy', 'rank_fertility', 'rank_unemployment_15plus', 'rank_unemployment_15_24', 'rank_unemployment_25_54', 'rank_unemployment_55_64', 'rank_unemployment_65plus']\n",
    "dfMergedNumbeo = dfNumbeo2012.merge(dfGapminder[rank_columns], how='left', left_on='Country', right_on='country') \n",
    "# print(dfMergedNumbeo.shape)\n",
    "dfMergedNumbeo.set_index('City',inplace=True)\n",
    "# dfMergedNumbeo = dfMergedNumbeo.dropna()"
   ]
  },
  {
   "cell_type": "markdown",
   "metadata": {},
   "source": [
    "Print correlations with Numbeo"
   ]
  },
  {
   "cell_type": "code",
   "execution_count": null,
   "metadata": {
    "ExecuteTime": {
     "end_time": "2020-01-25T21:35:20.030921Z",
     "start_time": "2020-01-25T21:34:55.969006Z"
    }
   },
   "outputs": [],
   "source": [
    "# population, gdp, co2, child_deaths, life_expectency, fertility stats\n",
    "rank_columns = ['NumbeoRank', 'rank_population', 'rank_child_deaths', 'rank_income_per_person', 'rank_co2_emissions', 'rank_life_expectancy', 'rank_fertility']\n",
    "print_scattermatrix(dfMergedNumbeo.loc[:,rank_columns], 'Correlation of Numbeo and Gapminder Rankings')\n",
    "print_heatmap(dfMergedNumbeo.loc[:,rank_columns], 'Correlation of Numbeo and Gapminder Rankings')\n",
    "# unemployment stats\n",
    "rank_columns = ['NumbeoRank', 'rank_unemployment_15plus', 'rank_unemployment_15_24', 'rank_unemployment_25_54', 'rank_unemployment_55_64', 'rank_unemployment_65plus']\n",
    "print_scattermatrix(dfMergedNumbeo.loc[:,rank_columns], 'Correlation of Numbeo and Gapminder Unemployment Rankings')"
   ]
  },
  {
   "cell_type": "markdown",
   "metadata": {},
   "source": [
    "Correlations with UN Prosperity"
   ]
  },
  {
   "cell_type": "code",
   "execution_count": null,
   "metadata": {
    "ExecuteTime": {
     "end_time": "2020-01-25T21:35:20.041818Z",
     "start_time": "2020-01-25T21:35:20.032105Z"
    }
   },
   "outputs": [],
   "source": [
    "rank_columns = ['country', 'rank_population', 'rank_child_deaths', 'rank_income_per_person', 'rank_co2_emissions', 'rank_life_expectancy', 'rank_fertility', 'rank_unemployment_15plus', 'rank_unemployment_15_24', 'rank_unemployment_25_54', 'rank_unemployment_55_64', 'rank_unemployment_65plus']\n",
    "dfMergedProsperity = dfProsperity2012.merge(dfGapminder[rank_columns], how='left', left_on='Country', right_on='country') \n",
    "# print(dfMergedProsperity.shape)\n",
    "dfMergedProsperity.set_index('City',inplace=True)\n",
    "dfMergedProsperity = dfMergedProsperity.dropna()"
   ]
  },
  {
   "cell_type": "markdown",
   "metadata": {},
   "source": [
    "Print correlations with UN Prosperity"
   ]
  },
  {
   "cell_type": "code",
   "execution_count": null,
   "metadata": {
    "ExecuteTime": {
     "end_time": "2020-01-25T21:35:44.736840Z",
     "start_time": "2020-01-25T21:35:20.042920Z"
    },
    "scrolled": false
   },
   "outputs": [],
   "source": [
    "rank_columns = ['UNRank', 'rank_population', 'rank_child_deaths', 'rank_income_per_person', 'rank_co2_emissions', 'rank_life_expectancy', 'rank_fertility']\n",
    "print_scattermatrix(dfMergedProsperity.loc[:,rank_columns], 'Correlation of UN Prosperity and Gapminder Rankings')\n",
    "print_heatmap(dfMergedProsperity.loc[:,rank_columns], 'Correlation of UN Prosperity and Gapminder Rankings')\n",
    "# unemployment stats\n",
    "rank_columns = ['UNRank', 'rank_unemployment_15plus', 'rank_unemployment_15_24', 'rank_unemployment_25_54', 'rank_unemployment_55_64', 'rank_unemployment_65plus']\n",
    "print_scattermatrix(dfMergedProsperity.loc[:,rank_columns], 'Correlation of UN Prosperity and Gapminder Unemployment Rankings')\n",
    "print_heatmap(dfMergedProsperity.loc[:,rank_columns], 'Correlation of UN Prosperity and Gapminder Unemployment Rankings')"
   ]
  },
  {
   "cell_type": "code",
   "execution_count": null,
   "metadata": {},
   "outputs": [],
   "source": []
  },
  {
   "cell_type": "markdown",
   "metadata": {},
   "source": [
    "## How do the rankings change over time?\n",
    "As a first step we look at the Numbeo Dataset and analyze the different indices visually over time"
   ]
  },
  {
   "cell_type": "code",
   "execution_count": null,
   "metadata": {
    "ExecuteTime": {
     "end_time": "2020-01-25T21:35:44.758831Z",
     "start_time": "2020-01-25T21:35:44.738022Z"
    }
   },
   "outputs": [],
   "source": [
    "display(dfNumbeo)"
   ]
  },
  {
   "cell_type": "markdown",
   "metadata": {},
   "source": [
    "## What do these numbers mean? \n",
    "The Numbeos Quality of Life Ranking is a weighted index based on several key factors: \n",
    "\n",
    "### Purchasing Power\n",
    "Relative to New York City: If domestic purchasing power is 40, this means that the inhabitants of that city with the average salary can afford to buy on an average 60% less goods and services than New York City residents with an average salary. \n",
    "\n",
    "### PropertyPriceToIncomeRatio\n",
    "Generally calculated as the ratio of median apartment prices to median familial disposable income\n",
    "\n",
    "### Cost of Living\n",
    "These indices are relative to New York City (NYC). Which means that for New York City, each index should be 100(%). If another city has, for example, rent index of 120, it means that on an average in that city rents are 20% more expensive than in New York City.\n",
    "\n",
    "### Pollution, Crime, Health Care\n",
    "Is based on survey data of visitors. [-2, +2], with -2 having meaning of strongly negative and +2 meaning of strongly positive \n",
    "\n",
    "### Climate Index \n",
    "Is an estimation of the climate likability of a given city or a country. It is in the range [-100, +100] (higher is better)\n",
    "\n",
    "### TrafficCommuteTime\n",
    "Is a composite index of time consumed in traffic due to job commute, estimation of time consumption dissatisfaction, CO2 consumption estimation in traffic and overall inefficiencies in the traffic system\n",
    "\n",
    "```\n",
    " protected void calculateIndex() {\n",
    "    index = new TrafficIndex();\n",
    "    index.time = overall.getTimeOverall();\n",
    "    double tooMuchTime = 0.0;\n",
    "    if (index.time > 25.0) {\n",
    "      tooMuchTime = index.time - 25;\n",
    "    }\n",
    "    index.timeExp = index.time + Math.pow(tooMuchTime, Math.E);\n",
    "    double co2 = 0.0;\n",
    "    co2 += overall.time_bus * 20.0; // bus produces 20g of CO2 per minute (for each passenger)\n",
    "    co2 += overall.time_driving * 133.0; // car produces 133g of CO2 per minute (assumes only driver)\n",
    "    co2 += overall.time_train * 10.0; // train produces 10g of CO2 per minute (for each passenger)\n",
    "    co2 += overall.time_tram * 15.0; // tram produces 15g of CO2 per minute (for each passenger)\n",
    "    co2 += overall.time_other * 10.0; // other produces 10g of CO2 per minute\n",
    "    co2 += overall.time_motorbike * 80.0; // motorbike produces 80g of CO2 per hour\n",
    "    index.co2 = 2 * co2; \n",
    "\n",
    "    index.main = index.time + Math.sqrt(index.timeExp) + Math.sqrt(index.co2) + Math.sqrt(index.inefficiency);\n",
    "}\n",
    "```\n",
    "\n",
    "### Quality of Life (QoL)\n",
    "Note that the index is given by the following formular: \n",
    "```\n",
    "QoL = Math.max(0, 100 + \n",
    "     purchasingPowerInclRentIndex / 2.5 -\n",
    "     (housePriceToIncomeRatio * 1.0) -\n",
    "     costOfLivingIndex / 10 +\n",
    "     safetyIndex / 2.0 + healthIndex / 2.5 -\n",
    "     trafficTimeIndex / 2.0 - pollutionIndex * 2.0 / 3.0 +\n",
    "     climateIndex / 3.0); \n",
    "```\n",
    "\n",
    "The formula has changed over time.\n",
    "For example between June 2017 and Decembar 2017 they decreased the weight for the cost of living. \n",
    "_This should be considered when drawing conclusions later!_\n",
    "Further details can be found on this website: https://www.numbeo.com/quality-of-life/indices_explained.jsp\n",
    "\n",
    "\n",
    "\n"
   ]
  },
  {
   "cell_type": "code",
   "execution_count": null,
   "metadata": {
    "ExecuteTime": {
     "end_time": "2020-01-25T21:35:49.599822Z",
     "start_time": "2020-01-25T21:35:44.759979Z"
    }
   },
   "outputs": [],
   "source": [
    "#How do the rankings change over time?\n",
    "\n",
    "fig = plt.figure(figsize=(20,10))\n",
    "fig.suptitle('Average Rankings over Time', fontsize='x-large', fontweight='bold')\n",
    "#This is used for the main title. 'figure()' is a class that provides all the plotting elements of a diagram. \n",
    "#This must be used first or else the title will not show.fig.subplots_adjust(top=0.85) solves our overlapping title problem.\n",
    "fig.subplots_adjust(top=0.95)\n",
    "\n",
    "\n",
    "ax = fig.add_subplot(111)\n",
    "\n",
    "fontdict={'fontsize': 14, 'fontweight' : 'book',    'verticalalignment': 'baseline',   'horizontalalignment': 'center'}\n",
    "\n",
    "#ax.set_title('Plotting Tutorial', fontdict=fontdict)\n",
    "\n",
    "sns.lineplot(x=\"Period\", y=\"NumbeoIndex\", data=dfNumbeo,legend='brief',label='Quality of Life')\n",
    "sns.lineplot(x=\"Period\", y=\"Climate\", data=dfNumbeo,legend='brief',label='Climate')\n",
    "sns.lineplot(x=\"Period\", y=\"PurchasingPower\", data=dfNumbeo,legend='brief',label='Purchasing Power')\n",
    "sns.lineplot(x=\"Period\", y=\"Safety\", data=dfNumbeo,legend='brief',label='Safety')\n",
    "sns.lineplot(x=\"Period\", y=\"HealthCare\", data=dfNumbeo,legend='brief',label='Health Care')\n",
    "sns.lineplot(x=\"Period\", y=\"CostOfLiving\", data=dfNumbeo,legend='brief',label='Cost of Living')\n",
    "sns.lineplot(x=\"Period\", y=\"PropertyPriceToIncomeRatio\", data=dfNumbeo,legend='brief',label='Property Price to Income Ratio')\n",
    "sns.lineplot(x=\"Period\", y=\"TrafficCommuteTime\", data=dfNumbeo,legend='brief',label='Purchasing Power')\n",
    "sns.lineplot(x=\"Period\", y=\"Pollution\", data=dfNumbeo,legend='brief',label='Pollution')\n",
    "\n",
    "plt.legend(fontsize=14)\n",
    "#plt.title('Average Rankings over Time', fontdict=fontdict, color=\"black\", position=(0.5,1));\n",
    "plt.xlabel('Collectiontime', fontsize=14)\n",
    "plt.ylabel('Average Score', fontsize=14);\n",
    "fig.savefig('visuals/RankingsOverTime.png')"
   ]
  },
  {
   "cell_type": "code",
   "execution_count": null,
   "metadata": {
    "ExecuteTime": {
     "end_time": "2020-01-25T21:35:53.170221Z",
     "start_time": "2020-01-25T21:35:49.601037Z"
    }
   },
   "outputs": [],
   "source": [
    "#There might be some outliers in the data so we decided to also look at a boxplot:\n",
    "fig = plt.figure(figsize=(30,15))\n",
    "fig.suptitle('Average Rankings over Time', fontsize='x-large', fontweight='bold')\n",
    "#This is used for the main title. 'figure()' is a class that provides all the plotting elements of a diagram. \n",
    "#This must be used first or else the title will not show.fig.subplots_adjust(top=0.85) solves our overlapping title problem.\n",
    "fig.subplots_adjust(top=0.95)\n",
    "\n",
    "\n",
    "ax = fig.add_subplot(111)\n",
    "\n",
    "fontdict={'fontsize': 14, 'fontweight' : 'book',    'verticalalignment': 'baseline',   'horizontalalignment': 'center'}\n",
    "\n",
    "#ax.set_title('Plotting Tutorial', fontdict=fontdict)\n",
    "\n",
    "dfNumbeoPivoted = pd.melt(dfNumbeo, col_level=0, id_vars=['Period', 'City'], value_vars=['NumbeoIndex', 'PurchasingPower', 'Safety', 'HealthCare', 'CostOfLiving', 'PropertyPriceToIncomeRatio', 'TrafficCommuteTime','Pollution', 'Climate'])\n",
    "\n",
    "\n",
    "flierprops = dict(markerfacecolor='0.75', markersize=5,    linestyle='none')\n",
    "g = sns.boxplot(x=\"Period\", y=\"value\",hue=\"variable\",notch=True, data=dfNumbeoPivoted,order=np.flip(dfNumbeo.Period.unique()),flierprops=flierprops)\n",
    "\n",
    "plt.legend(fontsize=14)\n",
    "#plt.title('Average Rankings over Time', fontdict=fontdict, color=\"black\", position=(0.5,1));\n",
    "plt.xlabel('Collectiontime', fontsize=14)\n",
    "plt.ylabel('Score', fontsize=14);\n",
    "fig.savefig('visuals/RankingsOverTimeBoxPlot.png')"
   ]
  },
  {
   "cell_type": "markdown",
   "metadata": {},
   "source": [
    "## Interpretation\n",
    "The Quality of life rankings on average increased from 2012 to 2015. Then they decreased a bit till mid 2017 and recovered again to mid 2018. \n",
    "After that the quality of life ranking decreased again.\n"
   ]
  },
  {
   "cell_type": "markdown",
   "metadata": {},
   "source": [
    "## How do city ratings correlate with quality of life rankings of the country in which the cities are located?\n"
   ]
  },
  {
   "cell_type": "code",
   "execution_count": null,
   "metadata": {
    "ExecuteTime": {
     "end_time": "2020-01-25T21:35:53.181212Z",
     "start_time": "2020-01-25T21:35:53.173571Z"
    }
   },
   "outputs": [],
   "source": [
    "print(f'number numbeo rows {dfNumbeo2012.shape[0]}')\n",
    "numbeo2012_vs_hdi = pd.merge(dfNumbeo2012, hdi, how='inner', on='Country')\n",
    "print(f'joined {numbeo2012_vs_hdi.shape[0]} cities from numbeo with countries from hdi')"
   ]
  },
  {
   "cell_type": "markdown",
   "metadata": {},
   "source": [
    "**Common Correlation Function**"
   ]
  },
  {
   "cell_type": "code",
   "execution_count": null,
   "metadata": {
    "ExecuteTime": {
     "end_time": "2020-01-25T21:35:53.205437Z",
     "start_time": "2020-01-25T21:35:53.182949Z"
    }
   },
   "outputs": [],
   "source": [
    "def eval_corr(df, rankA, rankB, title):\n",
    "    fig = plt.figure(figsize=(13,13))\n",
    "    g = sns.pairplot(df.loc[:,[rankA,rankB]],kind=\"reg\", diag_kind=None)\n",
    "    g.fig.suptitle(title, y=0.97,fontsize=14)\n",
    "    g.fig.subplots_adjust(top=0.85,left=0.2,bottom=0.1)\n",
    "    g.fig.savefig(f'visuals/CorrelationOf{rankA}vs{rankB}.png')\n",
    "\n",
    "    spearman_df = spearmanr(df[rankA], df[rankB])\n",
    "    print(f'spearman relation between {rankA} and {rankB}: {spearman_df}')\n",
    "    \n",
    "    df[\"CityPerformance\"] = df[rankA] - df[rankB]\n",
    "    print(f'10 Cities which perform better than their country ({rankA} vs {rankB})')\n",
    "    display(df.sort_values(\"CityPerformance\", ascending=True)[[\"City\", \"Country\", rankA, rankB]].head(10))\n",
    "    print(f'10 Cities which perform worse than their country ({rankA} vs {rankB})')\n",
    "    display(df.sort_values(\"CityPerformance\", ascending=False)[[\"City\", \"Country\", rankA, rankB]].head(10))"
   ]
  },
  {
   "cell_type": "markdown",
   "metadata": {
    "ExecuteTime": {
     "end_time": "2020-01-25T18:32:30.469447Z",
     "start_time": "2020-01-25T18:32:30.466969Z"
    }
   },
   "source": [
    "### Numbeo Cities vs Human Development Index (HDI) Countries"
   ]
  },
  {
   "cell_type": "code",
   "execution_count": null,
   "metadata": {
    "ExecuteTime": {
     "end_time": "2020-01-25T21:35:54.316172Z",
     "start_time": "2020-01-25T21:35:53.206648Z"
    }
   },
   "outputs": [],
   "source": [
    "eval_corr(numbeo2012_vs_hdi, 'NumbeoRank', 'HDIRank(2012)', \"Numbeo Cities vs HDI Countries Rankings 2012\")"
   ]
  },
  {
   "cell_type": "markdown",
   "metadata": {},
   "source": [
    "### Numbeo Cities vs Human Development Index (HDI) Countries (reranked)"
   ]
  },
  {
   "cell_type": "code",
   "execution_count": null,
   "metadata": {
    "ExecuteTime": {
     "end_time": "2020-01-25T21:35:55.412851Z",
     "start_time": "2020-01-25T21:35:54.317375Z"
    },
    "scrolled": false
   },
   "outputs": [],
   "source": [
    "numbeo2012_vs_hdi[\"HDIReRank(2012)\"] = numbeo2012_vs_hdi[\"HDIRank(2012)\"].rank(method='dense', ascending=True) \n",
    "eval_corr(numbeo2012_vs_hdi, 'NumbeoRank', 'HDIReRank(2012)', \"Numbeo Cities vs HDI Countries Rankings Reranked 2012\")"
   ]
  },
  {
   "cell_type": "markdown",
   "metadata": {},
   "source": [
    "### Numbeo Cities vs Numbeo Countries"
   ]
  },
  {
   "cell_type": "code",
   "execution_count": null,
   "metadata": {
    "ExecuteTime": {
     "end_time": "2020-01-25T21:35:56.546602Z",
     "start_time": "2020-01-25T21:35:55.414100Z"
    }
   },
   "outputs": [],
   "source": [
    "numbeo2012_vs_numbeo2012_countries = pd.merge(dfNumbeo2012, dfNumbeo2012Countries, how='inner', on='Country')\n",
    "print(f'joined {numbeo2012_vs_numbeo2012_countries.shape[0]} numbeo cities with countries')\n",
    "eval_corr(numbeo2012_vs_numbeo2012_countries, 'NumbeoRank', 'NumbeoCountryRank', \"Numbeo Cities vs Numbeo Countries Rankings 2012\")"
   ]
  },
  {
   "cell_type": "markdown",
   "metadata": {},
   "source": [
    "### Mercer Cities vs Human Development Index (HDI) Countries"
   ]
  },
  {
   "cell_type": "code",
   "execution_count": null,
   "metadata": {
    "ExecuteTime": {
     "end_time": "2020-01-25T21:35:57.643952Z",
     "start_time": "2020-01-25T21:35:56.547903Z"
    }
   },
   "outputs": [],
   "source": [
    "mercer2012_vs_hdi = pd.merge(dfMercer2012, hdi, how='inner', on='Country')\n",
    "print(f'joined {mercer2012_vs_hdi.shape[0]} cities from mercer with countries from hdi')\n",
    "eval_corr(mercer2012_vs_hdi, 'MercerRank', 'HDIRank(2012)', \"Mercer Cities vs HDI Countries Rankings 2012\")"
   ]
  },
  {
   "cell_type": "markdown",
   "metadata": {},
   "source": [
    "### Mercer Cities vs Numbeo Countries"
   ]
  },
  {
   "cell_type": "code",
   "execution_count": null,
   "metadata": {
    "ExecuteTime": {
     "end_time": "2020-01-25T21:35:58.796619Z",
     "start_time": "2020-01-25T21:35:57.645191Z"
    }
   },
   "outputs": [],
   "source": [
    "mercer2012_vs_numbeo_countries = pd.merge(dfMercer2012, dfNumbeo2012Countries, how='inner', on='Country')\n",
    "print(f'joined {mercer2012_vs_numbeo_countries.shape[0]} cities from mercer with countries from hdi')\n",
    "eval_corr(mercer2012_vs_numbeo_countries, 'MercerRank', 'NumbeoCountryRank', \"Mercer Cities vs Numbeo Countries Rankings 2012\")"
   ]
  },
  {
   "cell_type": "markdown",
   "metadata": {},
   "source": [
    "### UN Prosperity Cities vs HDI Countries"
   ]
  },
  {
   "cell_type": "code",
   "execution_count": null,
   "metadata": {
    "ExecuteTime": {
     "end_time": "2020-01-25T21:35:59.888745Z",
     "start_time": "2020-01-25T21:35:58.797884Z"
    },
    "scrolled": false
   },
   "outputs": [],
   "source": [
    "prosperity2012_vs_hdi = pd.merge(dfProsperity2012, hdi, how='inner', on='Country')\n",
    "print(f'joined {prosperity2012_vs_hdi.shape[0]} cities from prosperity with countries from hdi')\n",
    "eval_corr(prosperity2012_vs_hdi, 'UNRank', 'HDIRank(2012)', \"UN Prosperity Cities vs HDI Countries 2012\")"
   ]
  },
  {
   "cell_type": "markdown",
   "metadata": {},
   "source": [
    "### UN Prosperity Cities vs Numbeo Countries"
   ]
  },
  {
   "cell_type": "code",
   "execution_count": null,
   "metadata": {
    "ExecuteTime": {
     "end_time": "2020-01-25T21:36:00.996518Z",
     "start_time": "2020-01-25T21:35:59.890024Z"
    }
   },
   "outputs": [],
   "source": [
    "prosperity2012_vs_hdi = pd.merge(dfProsperity2012, dfNumbeo2012Countries, how='inner', on='Country')\n",
    "print(f'joined {prosperity2012_vs_hdi.shape[0]} cities from prosperity with countries from numbeo')\n",
    "eval_corr(prosperity2012_vs_hdi, 'UNRank', 'NumbeoCountryRank', \"UN Prosperity Cities vs Numbeo Countries 2012\")\n"
   ]
  },
  {
   "cell_type": "markdown",
   "metadata": {},
   "source": [
    "## How do these rankings correlate with each other for one specific year?"
   ]
  },
  {
   "cell_type": "code",
   "execution_count": null,
   "metadata": {
    "ExecuteTime": {
     "end_time": "2020-01-25T21:36:01.038390Z",
     "start_time": "2020-01-25T21:36:00.997712Z"
    }
   },
   "outputs": [],
   "source": [
    "mergedDf = dfMercer2012.merge(dfNumbeo2012, left_index=True, right_index=True)\n",
    "\n",
    "#now that we operate on a subset of the data we should rerank the cities to have comparable ranks! \n",
    "#otherwise we would have higher ranks for numbeo cities because we have more data there and our goal is to see if numbeo would sort the cities in the same order as mercer does. \n",
    "mergedDf[\"NumbeoReRank\"] = mergedDf[\"NumbeoRank\"].rank(ascending=False) \n",
    "mergedDf[\"MercerReRank\"] = mergedDf[\"MercerRank\"].rank(ascending=False) \n",
    "mergedDf.to_csv(\"data/NumbeoAndMercer.csv\", index=False)\n",
    "mergedDf"
   ]
  },
  {
   "cell_type": "code",
   "execution_count": null,
   "metadata": {
    "ExecuteTime": {
     "end_time": "2020-01-25T21:36:02.104263Z",
     "start_time": "2020-01-25T21:36:01.039651Z"
    }
   },
   "outputs": [],
   "source": [
    "fig = plt.figure(figsize=(13,13))\n",
    "g = sns.pairplot(mergedDf.loc[:,['MercerReRank','NumbeoReRank']], kind=\"reg\", diag_kind=None)\n",
    "g.fig.suptitle(\"Correlation of Mercer and Numbeo Rankings \\n with reranking in 2012\", y=0.97,fontsize=14)\n",
    "g.fig.subplots_adjust(top=0.85, left=0.2, bottom=0.1)\n",
    "g.fig.savefig('visuals/CorrelationOfMercerAndNumbeoRanking2012withreranking.png')\n",
    "\n"
   ]
  },
  {
   "cell_type": "code",
   "execution_count": null,
   "metadata": {
    "ExecuteTime": {
     "end_time": "2020-01-25T21:36:03.170904Z",
     "start_time": "2020-01-25T21:36:02.105566Z"
    }
   },
   "outputs": [],
   "source": [
    "fig = plt.figure(figsize=(10,10))\n",
    "g = sns.pairplot(mergedDf.loc[:,['MercerRank','NumbeoRank']], kind=\"reg\", diag_kind=None)\n",
    "g.fig.suptitle(\"Correlation of Mercer and Numbeo Rankings \\n without reranking in 2012\", y=0.97,fontsize=14)\n",
    "g.fig.subplots_adjust(top=0.85,left=0.2,bottom=0.1)\n",
    "g.fig.savefig('visuals/CorrelationOfMercerAndNumbeoRanking2012withoutreranking.png')"
   ]
  },
  {
   "cell_type": "code",
   "execution_count": null,
   "metadata": {
    "ExecuteTime": {
     "end_time": "2020-01-25T21:36:03.519383Z",
     "start_time": "2020-01-25T21:36:03.172120Z"
    }
   },
   "outputs": [],
   "source": [
    "%load_ext rpy2.ipython"
   ]
  },
  {
   "cell_type": "code",
   "execution_count": null,
   "metadata": {
    "ExecuteTime": {
     "end_time": "2020-01-25T21:36:03.532748Z",
     "start_time": "2020-01-25T21:36:03.520828Z"
    }
   },
   "outputs": [],
   "source": [
    "%%R -o output\n",
    "d <- read.csv2(\"data/NumbeoAndMercer.csv\",sep=',',dec ='.')\n",
    "rankcorrelation <- cor(d$NumbeoReRank, d$MercerReRank,  method = \"spearman\", use = \"complete.obs\")\n",
    "indexcorrelation <- cor(d$NumbeoIndex, d$MercerIndex,  method = \"spearman\", use = \"complete.obs\")\n",
    "output <- capture.output({c(rankcorrelation,indexcorrelation) })"
   ]
  },
  {
   "cell_type": "code",
   "execution_count": null,
   "metadata": {
    "ExecuteTime": {
     "end_time": "2020-01-25T21:36:03.536720Z",
     "start_time": "2020-01-25T21:36:03.533883Z"
    }
   },
   "outputs": [],
   "source": [
    "print(output)"
   ]
  },
  {
   "cell_type": "markdown",
   "metadata": {},
   "source": [
    "## Insight\n",
    "Interesting to see that Mercer Rankings correlate with Numbeo Rankings. Especially because Mercers sells the ranking data for 20k and Numbeo is (almost) for free. "
   ]
  },
  {
   "cell_type": "code",
   "execution_count": null,
   "metadata": {
    "ExecuteTime": {
     "end_time": "2020-01-25T21:36:03.574549Z",
     "start_time": "2020-01-25T21:36:03.537846Z"
    }
   },
   "outputs": [],
   "source": [
    "mergedDf = mergedDf.merge(dfProsperity2012, left_index=True, right_index=True) \n",
    "mergedDf[\"UNReRank\"] = mergedDf[\"UNRank\"].rank(ascending=False) \n",
    "mergedDf"
   ]
  },
  {
   "cell_type": "code",
   "execution_count": null,
   "metadata": {
    "ExecuteTime": {
     "end_time": "2020-01-25T21:36:06.152801Z",
     "start_time": "2020-01-25T21:36:03.575991Z"
    }
   },
   "outputs": [],
   "source": [
    "fig = plt.figure(figsize=(10,10))\n",
    "g = sns.pairplot(mergedDf.loc[:,['MercerReRank','NumbeoReRank','UNReRank']], kind=\"reg\", diag_kind=None)\n",
    "g.fig.suptitle(\"Correlation of Mercer, UN and Numbeo Rankings in 2012\", y=0.97,fontsize=14)\n",
    "g.fig.subplots_adjust(top=0.9)\n",
    "g.fig.savefig('visuals/CorrelationOfMercerAndUNAndNumbeoRanking2012.png')\n"
   ]
  },
  {
   "cell_type": "code",
   "execution_count": null,
   "metadata": {
    "ExecuteTime": {
     "end_time": "2020-01-25T21:36:06.194620Z",
     "start_time": "2020-01-25T21:36:06.154358Z"
    }
   },
   "outputs": [],
   "source": [
    "#Todo merging only Numbeo with UN Data! (Removing the bottleneck Mercer)\n",
    "mergedDf = dfProsperity2012.merge(dfNumbeo2012, left_index=True, right_index=True)\n",
    "mergedDf[\"NumbeoReRank\"] = mergedDf[\"NumbeoRank\"].rank(ascending=False) \n",
    "mergedDf[\"UNReRank\"] = mergedDf[\"UNRank\"].rank(ascending=False) \n",
    "mergedDf"
   ]
  },
  {
   "cell_type": "code",
   "execution_count": null,
   "metadata": {
    "ExecuteTime": {
     "end_time": "2020-01-25T21:36:07.275479Z",
     "start_time": "2020-01-25T21:36:06.196010Z"
    }
   },
   "outputs": [],
   "source": [
    "fig = plt.figure(figsize=(10,10))\n",
    "\n",
    "g = sns.pairplot(mergedDf.loc[:,['NumbeoReRank','UNReRank']], kind=\"reg\", diag_kind=None)\n",
    "g.fig.suptitle(\"Correlation of UN and Numbeo Rankings in 2012\", y=0.97,fontsize=14)\n",
    "g.fig.subplots_adjust(top=0.9)\n",
    "g.fig.savefig('visuals/CorrelationOfUNAndNumbeoRanking2012.png')"
   ]
  },
  {
   "cell_type": "markdown",
   "metadata": {},
   "source": [
    "## How do they correlate with other statistics about the countries in which the cities are located? "
   ]
  },
  {
   "cell_type": "markdown",
   "metadata": {},
   "source": [
    "#### WHO Data: Sanitation usage & Health Regulations"
   ]
  },
  {
   "cell_type": "code",
   "execution_count": null,
   "metadata": {
    "ExecuteTime": {
     "end_time": "2020-01-25T21:36:07.307170Z",
     "start_time": "2020-01-25T21:36:07.276976Z"
    }
   },
   "outputs": [],
   "source": [
    "# Merge Numbeo with WHO, merge on country & year\n",
    "# first add country-period column on numbeo\n",
    "dfNumbeo['Country_Period'] = (\n",
    "    dfNumbeo['Country'].str[:10] +\n",
    "    dfNumbeo['Period'].str[:4]\n",
    ")\n",
    "# now add similar column on WHO\n",
    "dfWHO_sanitation['Country_Period'] = (\n",
    "    dfWHO_sanitation['name'].str[:10] +\n",
    "    dfWHO_sanitation['YEAR'].astype(str)\n",
    ")\n",
    "dfWHO_SDG['Country_Period'] = (\n",
    "    dfWHO_SDG['name'].str[:10] +\n",
    "    dfWHO_SDG['YEAR'].astype(str)\n",
    ")\n",
    "# Now merge with sanitation\n",
    "dfMerged = dfNumbeo.merge(\n",
    "    dfWHO_sanitation,\n",
    "    on='Country_Period',\n",
    "    how='inner'\n",
    ")\n",
    "# Renamed column 'Numeric' to 'Sanitation'\n",
    "dfMerged.rename(columns={'Numeric':'Sanitation'}, inplace=True)\n",
    "# Now merge with SDG\n",
    "dfMerged = dfMerged.merge(\n",
    "    dfWHO_SDG,\n",
    "    on='Country_Period',\n",
    "    how='inner'\n",
    ")\n",
    "# Renamed column 'Numeric' to 'SDG'\n",
    "dfMerged.rename(columns={'Numeric':'SDG'}, inplace=True)\n",
    "# correlation between NumbeoIndex and Sanitation\n",
    "corr_Numbeo_Sanitation = dfMerged.NumbeoIndex.corr(\n",
    "    dfMerged.Sanitation, \n",
    "    method='spearman')\n",
    "print(f\"Numbeo Index vs Sanitation Usage: {corr_Numbeo_Sanitation}\")\n",
    "# correlation between NumbeoIndex and Health Regulation (SDG)\n",
    "corr_Numbeo_SDG = dfMerged.NumbeoIndex.corr(\n",
    "    dfMerged.SDG, \n",
    "    method='spearman')\n",
    "print(f\"Numbeo Index vs Health Regulations: {corr_Numbeo_SDG}\")"
   ]
  },
  {
   "cell_type": "code",
   "execution_count": null,
   "metadata": {
    "ExecuteTime": {
     "end_time": "2020-01-25T21:36:07.332106Z",
     "start_time": "2020-01-25T21:36:07.308507Z"
    }
   },
   "outputs": [],
   "source": [
    "# fit a linear model\n",
    "lm = smf.ols(formula='NumbeoIndex ~ Sanitation + SDG', data=dfMerged).fit()\n",
    "# print the full summary\n",
    "lm.summary()"
   ]
  },
  {
   "cell_type": "markdown",
   "metadata": {},
   "source": [
    "With an adjusted $R^2$ value of 0.280 we see that the linear model can already explain\n",
    "a lot of the variance of the QoL index."
   ]
  },
  {
   "cell_type": "code",
   "execution_count": null,
   "metadata": {
    "ExecuteTime": {
     "end_time": "2020-01-25T21:36:07.395043Z",
     "start_time": "2020-01-25T21:36:07.333301Z"
    }
   },
   "outputs": [],
   "source": [
    "# add in GDP into dfMerged\n",
    "gdp = []\n",
    "for index, row in dfMerged.iterrows():\n",
    "    country = row['Country']\n",
    "    year = row['Period'][:4]\n",
    "    try:\n",
    "        gdp.append(dfWorldbankGDP.loc[country, year])\n",
    "    except:\n",
    "        gdp.append(np.nan)\n",
    "dfMerged['GDP'] = gdp"
   ]
  },
  {
   "cell_type": "code",
   "execution_count": null,
   "metadata": {
    "ExecuteTime": {
     "end_time": "2020-01-25T21:36:07.402823Z",
     "start_time": "2020-01-25T21:36:07.396216Z"
    }
   },
   "outputs": [],
   "source": [
    "# correlation between NumbeoIndex and GDP\n",
    "corr_Numbeo_GDP = dfMerged.NumbeoIndex.corr(\n",
    "    dfMerged.GDP, \n",
    "    method='spearman')\n",
    "print(f\"Numbeo Index vs GDP: {corr_Numbeo_GDP}\")"
   ]
  },
  {
   "cell_type": "code",
   "execution_count": null,
   "metadata": {
    "ExecuteTime": {
     "end_time": "2020-01-25T21:36:07.434529Z",
     "start_time": "2020-01-25T21:36:07.403987Z"
    }
   },
   "outputs": [],
   "source": [
    "# fit a model\n",
    "lm = smf.ols(formula='NumbeoIndex ~ Sanitation + GDP', data=dfMerged).fit()\n",
    "# print the full summary\n",
    "lm.summary()"
   ]
  },
  {
   "cell_type": "markdown",
   "metadata": {},
   "source": [
    "Sanitation and GDP can together explain 39% of the variance for the NumbeoIndex."
   ]
  },
  {
   "cell_type": "code",
   "execution_count": null,
   "metadata": {
    "ExecuteTime": {
     "end_time": "2020-01-25T21:36:07.498553Z",
     "start_time": "2020-01-25T21:36:07.435837Z"
    }
   },
   "outputs": [],
   "source": [
    "# add in emissions damage into dfMerged\n",
    "emissions = []\n",
    "for index, row in dfMerged.iterrows():\n",
    "    country = row['Country']\n",
    "    year = row['Period'][:4]\n",
    "    try:\n",
    "        emissions.append(dfWorldbankEmissions.loc[country, year])\n",
    "    except:\n",
    "        emissions.append(np.nan)\n",
    "dfMerged['Emissions'] = emissions"
   ]
  },
  {
   "cell_type": "code",
   "execution_count": null,
   "metadata": {
    "ExecuteTime": {
     "end_time": "2020-01-25T21:36:07.503753Z",
     "start_time": "2020-01-25T21:36:07.499669Z"
    }
   },
   "outputs": [],
   "source": [
    "# correlation between NumbeoIndex and Emissions\n",
    "corr_Numbeo_Emissions = dfMerged.NumbeoIndex.corr(\n",
    "    dfMerged.Emissions, \n",
    "    method='spearman')\n",
    "print(f\"Numbeo Index vs Emissions: {corr_Numbeo_Emissions}\")"
   ]
  },
  {
   "cell_type": "code",
   "execution_count": null,
   "metadata": {
    "ExecuteTime": {
     "end_time": "2020-01-25T21:36:12.364464Z",
     "start_time": "2020-01-25T21:36:07.504912Z"
    }
   },
   "outputs": [],
   "source": [
    "fig = plt.figure(figsize=(13,13))\n",
    "g = sns.pairplot(dfMerged.loc[:,['Sanitation','GDP','Emissions','NumbeoIndex']], kind=\"reg\", diag_kind=None)\n",
    "g.fig.suptitle(\"Correlation of WHO/WorldBank data and Numbeo Index\", y=0.97,fontsize=14)\n",
    "g.fig.subplots_adjust(top=0.85,left=0.2,bottom=0.1)\n",
    "g.fig.savefig('visuals/CorrelationWHO_WorldBank_GDP_QoL.png')"
   ]
  },
  {
   "cell_type": "code",
   "execution_count": null,
   "metadata": {
    "ExecuteTime": {
     "end_time": "2020-01-25T21:36:12.391886Z",
     "start_time": "2020-01-25T21:36:12.365767Z"
    }
   },
   "outputs": [],
   "source": [
    "# fit a model\n",
    "lm = smf.ols(\n",
    "    formula='NumbeoIndex ~ Sanitation + GDP + Emissions',\n",
    "    data=dfMerged).fit()\n",
    "# print the full summary\n",
    "lm.summary()"
   ]
  },
  {
   "cell_type": "markdown",
   "metadata": {},
   "source": [
    "Together 43% of the variance of the Numbeo Index can be explained."
   ]
  },
  {
   "cell_type": "markdown",
   "metadata": {},
   "source": [
    "## What are the determining characteristics for livability of a city? How do they correlate with cost of living?"
   ]
  },
  {
   "cell_type": "code",
   "execution_count": null,
   "metadata": {
    "ExecuteTime": {
     "end_time": "2020-01-25T21:36:37.686496Z",
     "start_time": "2020-01-25T21:36:12.393133Z"
    }
   },
   "outputs": [],
   "source": [
    "#for this question we will look at the most recent Numbeo data (2020) and make a visual analysis. \n",
    "#after that we will train a linear regression model in r and interpret the inference statistics\n",
    "\n",
    "dfNumbeo2020 = dfNumbeo.set_index('Period').loc['2020',:]\n",
    "#dfNumbeo2020\n",
    "\n",
    "\n",
    "#There might be some outliers in the data so we decided to also look at a boxplot:\n",
    "#fig = plt.figure(figsize=(12,10))\n",
    "#fig.suptitle('Correlation of City Characteristics', fontsize='x-large', fontweight='bold', y=0.93)\n",
    "#This is used for the main title. 'figure()' is a class that provides all the plotting elements of a diagram. \n",
    "#This must be used first or else the title will not show.fig.subplots_adjust(top=0.85) solves our overlapping title problem.\n",
    "\n",
    "\n",
    "fig = plt.figure(figsize=(30,15))\n",
    "#fig.suptitle('Correlation of Rankings in 2020', fontsize='x-large', fontweight='bold')\n",
    "#fig.subplots_adjust(top=0.88,left=0.2,bottom=0.3)\n",
    "\n",
    "#ax = fig.add_subplot(111)\n",
    "g = sns.pairplot(dfNumbeo2020,kind=\"reg\")\n",
    "g.fig.subplots_adjust(top=0.95)\n",
    "g.fig.suptitle(\"Correlation of Rankings with outliers in 2020\", y=0.97,fontsize=14)\n",
    "\n",
    "# plt.title('Correlation of Rankings in 2020', fontdict=fontdict, color=\"black\", position=(0.5,1));\n",
    "\n",
    "g.fig.savefig('visuals/CorrelationOfRankingsIn2020WithOutliers.png')\n"
   ]
  },
  {
   "cell_type": "code",
   "execution_count": null,
   "metadata": {
    "ExecuteTime": {
     "end_time": "2020-01-25T21:36:37.716587Z",
     "start_time": "2020-01-25T21:36:37.687781Z"
    }
   },
   "outputs": [],
   "source": [
    "#find the outliers\n",
    "#taken from https://stackoverflow.com/questions/46827580/multivariate-outlier-removal-with-mahalanobis-distance\n",
    "def MahalanobisDist(data, verbose=False):\n",
    "    covariance_matrix = np.cov(data, rowvar=False)\n",
    "    if is_pos_def(covariance_matrix):\n",
    "        inv_covariance_matrix = np.linalg.inv(covariance_matrix)\n",
    "        if is_pos_def(inv_covariance_matrix):\n",
    "            vars_mean = []\n",
    "            for i in range(data.shape[0]):\n",
    "                vars_mean.append(list(data.mean(axis=0)))\n",
    "            diff = data - vars_mean\n",
    "            md = []\n",
    "            for i in range(len(diff)):\n",
    "                md.append(np.sqrt(diff[i].dot(inv_covariance_matrix).dot(diff[i])))\n",
    "\n",
    "            if verbose:\n",
    "                print(\"Covariance Matrix:\\n {}\\n\".format(covariance_matrix))\n",
    "                print(\"Inverse of Covariance Matrix:\\n {}\\n\".format(inv_covariance_matrix))\n",
    "                print(\"Variables Mean Vector:\\n {}\\n\".format(vars_mean))\n",
    "                print(\"Variables - Variables Mean Vector:\\n {}\\n\".format(diff))\n",
    "                print(\"Mahalanobis Distance:\\n {}\\n\".format(md))\n",
    "            return md\n",
    "        else:\n",
    "            print(\"Error: Inverse of Covariance Matrix is not positive definite!\")\n",
    "    else:\n",
    "        print(\"Error: Covariance Matrix is not positive definite!\")\n",
    "\n",
    "\n",
    "def MD_detectOutliers(data, extreme=False, verbose=False):\n",
    "    MD = MahalanobisDist(data, verbose)\n",
    "    # one popular way to specify the threshold\n",
    "    #m = np.mean(MD)\n",
    "    #t = 3. * m if extreme else 2. * m\n",
    "    #outliers = []\n",
    "    #for i in range(len(MD)):\n",
    "    #    if MD[i] > t:\n",
    "    #        outliers.append(i)  # index of the outlier\n",
    "    #return np.array(outliers)\n",
    "\n",
    "    # or according to the 68–95–99.7 rule\n",
    "    std = np.std(MD)\n",
    "    k = 3. * std if extreme else 2. * std\n",
    "    m = np.mean(MD)\n",
    "    up_t = m + k\n",
    "    low_t = m - k\n",
    "    outliers = []\n",
    "    for i in range(len(MD)):\n",
    "        if (MD[i] >= up_t) or (MD[i] <= low_t):\n",
    "            outliers.append(i)  # index of the outlier\n",
    "    return np.array(outliers)\n",
    "\n",
    "\n",
    "def is_pos_def(A):\n",
    "    if np.allclose(A, A.T):\n",
    "        try:\n",
    "            np.linalg.cholesky(A)\n",
    "            return True\n",
    "        except np.linalg.LinAlgError:\n",
    "            return False\n",
    "    else:\n",
    "        return False\n",
    "\n",
    "\n",
    "def handle_outliers(noisy_data):\n",
    "    \"\"\" \n",
    "    Parameters\n",
    "    --------\n",
    "    noisy_data: data frame that contains outliers\n",
    "    \n",
    "    Returns\n",
    "    --------\n",
    "    cleaned_data: data frame with outliers\n",
    "    \"\"\"\n",
    "    df = noisy_data \n",
    "    #using a multivariate outlier detection based on mahalanobis distance from \n",
    "    #https://stackoverflow.com/questions/46827580/multivariate-outlier-removal-with-mahalanobis-distance\n",
    "    outliers_indices = MD_detectOutliers(df.iloc[:,2:10].values, verbose=False)\n",
    "\n",
    "    print(\"Outliers Indices: {}\\n\".format(outliers_indices))\n",
    "    df = df.reset_index()\n",
    "    inliers = pd.Int64Index(np.arange(len(df))).difference(outliers_indices)\n",
    "    cleaned_data = df.iloc[inliers]\n",
    "    return cleaned_data\n",
    "    \n",
    "dfNumbeo2020_cleaned = handle_outliers(dfNumbeo2020).set_index('Period')\n"
   ]
  },
  {
   "cell_type": "code",
   "execution_count": null,
   "metadata": {
    "ExecuteTime": {
     "end_time": "2020-01-25T21:36:37.742781Z",
     "start_time": "2020-01-25T21:36:37.718306Z"
    }
   },
   "outputs": [],
   "source": [
    "#looking at the outliers:\n",
    "dfNumbeo2020.iloc[[0,226],:]"
   ]
  },
  {
   "cell_type": "code",
   "execution_count": null,
   "metadata": {
    "ExecuteTime": {
     "end_time": "2020-01-25T21:37:03.163008Z",
     "start_time": "2020-01-25T21:36:37.744644Z"
    }
   },
   "outputs": [],
   "source": [
    "#plotting again without outliers\n",
    "#dfNumbeo2020_cleaned\n",
    "\n",
    "fig = plt.figure(figsize=(30,15))\n",
    "#fig.suptitle('Correlation of Rankings in 2020', fontsize='x-large', fontweight='bold')\n",
    "\n",
    "#ax = fig.add_subplot(111)\n",
    "g = sns.pairplot(dfNumbeo2020_cleaned,kind=\"reg\")\n",
    "g.fig.suptitle(\"Correlation of Rankings in 2020\", y=0.97,fontsize=14)\n",
    "g.fig.subplots_adjust(top=0.95)\n",
    "\n",
    "# plt.title('Correlation of Rankings in 2020', fontdict=fontdict, color=\"black\", position=(0.5,1));\n",
    "\n",
    "g.fig.savefig('visuals/CorrelationOfRankingsIn2020.png')\n"
   ]
  },
  {
   "cell_type": "code",
   "execution_count": null,
   "metadata": {
    "ExecuteTime": {
     "end_time": "2020-01-25T21:37:08.052088Z",
     "start_time": "2020-01-25T21:37:03.164392Z"
    }
   },
   "outputs": [],
   "source": [
    "#plotting subset of the features that lead to an increase of the cost of living:\n",
    "fig = plt.figure(figsize=(30,15))\n",
    "#fig.suptitle('Correlation of Rankings in 2020', fontsize='x-large', fontweight='bold')\n",
    "\n",
    "#ax = fig.add_subplot(111)\n",
    "g = sns.pairplot(dfNumbeo2020_cleaned.loc[:,['CostOfLiving','NumbeoIndex','PurchasingPower','HealthCare']],kind=\"reg\")\n",
    "g.fig.suptitle(\"Cost of living vs city characteristics in 2020 - increasing factors\", y=0.97,fontsize=14)\n",
    "g.fig.subplots_adjust(top=0.95)\n",
    "\n",
    "# plt.title('Correlation of Rankings in 2020', fontdict=fontdict, color=\"black\", position=(0.5,1));\n",
    "\n",
    "g.fig.savefig('visuals/CostOfLivingCorrelationIn2020.png')\n"
   ]
  },
  {
   "cell_type": "code",
   "execution_count": null,
   "metadata": {
    "ExecuteTime": {
     "end_time": "2020-01-25T21:37:12.793128Z",
     "start_time": "2020-01-25T21:37:08.053635Z"
    }
   },
   "outputs": [],
   "source": [
    "#plotting subset of the features that lead to a decrease of the cost of living:\n",
    "fig = plt.figure(figsize=(30,15))\n",
    "#fig.suptitle('Correlation of Rankings in 2020', fontsize='x-large', fontweight='bold')\n",
    "\n",
    "#ax = fig.add_subplot(111)\n",
    "g = sns.pairplot(dfNumbeo2020_cleaned.loc[:,['CostOfLiving','PropertyPriceToIncomeRatio','TrafficCommuteTime','Pollution']],kind=\"reg\")\n",
    "g.fig.suptitle(\"Cost of living vs city characteristics in 2020 - decreasing factors\", y=0.97,fontsize=14)\n",
    "g.fig.subplots_adjust(top=0.95)\n",
    "\n",
    "# plt.title('Correlation of Rankings in 2020', fontdict=fontdict, color=\"black\", position=(0.5,1));\n",
    "\n",
    "g.fig.savefig('visuals/CostOfLivingCorrelationIn2020NegativeInfluencers.png')\n"
   ]
  },
  {
   "cell_type": "code",
   "execution_count": null,
   "metadata": {
    "ExecuteTime": {
     "end_time": "2020-01-25T21:37:12.805735Z",
     "start_time": "2020-01-25T21:37:12.794532Z"
    }
   },
   "outputs": [],
   "source": [
    "dfNumbeo2020_cleaned.to_csv('data/NumbeoOutlierRemoved.csv')"
   ]
  },
  {
   "cell_type": "code",
   "execution_count": null,
   "metadata": {
    "ExecuteTime": {
     "end_time": "2020-01-25T21:37:13.494331Z",
     "start_time": "2020-01-25T21:37:12.807061Z"
    }
   },
   "outputs": [],
   "source": [
    "#There might be some outliers in the data so we decided to also look at a boxplot:\n",
    "fig = plt.figure(figsize=(12,10))\n",
    "fig.suptitle('Correlation of City Characteristics', fontsize='x-large', fontweight='bold', y=0.93)\n",
    "#This is used for the main title. 'figure()' is a class that provides all the plotting elements of a diagram. \n",
    "#This must be used first or else the title will not show.fig.subplots_adjust(top=0.85) solves our overlapping title problem.\n",
    "fig.subplots_adjust(top=0.88,left=0.2,bottom=0.3)\n",
    "\n",
    "\n",
    "ax = fig.add_subplot(111)\n",
    "\n",
    "fontdict={'fontsize': 14, 'fontweight' : 'book',    'verticalalignment': 'baseline',   'horizontalalignment': 'center'}\n",
    "\n",
    "#ax.set_title('Plotting Tutorial', fontdict=fontdict)\n",
    "\n",
    "g = sns.heatmap(dfNumbeo2020_cleaned.corr(),  vmin=-1, cmap='coolwarm', annot=True);\n",
    "\n",
    "plt.legend(fontsize=14)\n",
    "#plt.title('Average Rankings over Time', fontdict=fontdict, color=\"black\", position=(0.5,1));\n",
    "plt.xlabel('', fontsize=14)\n",
    "plt.ylabel('', fontsize=14);\n",
    "fig.savefig('visuals/CorrelationOfCityCharacteristics.png')"
   ]
  },
  {
   "cell_type": "code",
   "execution_count": null,
   "metadata": {
    "ExecuteTime": {
     "end_time": "2020-01-25T21:37:13.497774Z",
     "start_time": "2020-01-25T21:37:13.495738Z"
    }
   },
   "outputs": [],
   "source": [
    "#g = sns.boxplot(x=\"Period\", y=\"value\",hue=\"variable\", data=dfNumbeoPivoted,order=np.flip(dfNumbeo.Period.unique()))\n",
    "#dir(g)"
   ]
  },
  {
   "cell_type": "code",
   "execution_count": null,
   "metadata": {
    "ExecuteTime": {
     "end_time": "2020-01-25T21:37:13.513943Z",
     "start_time": "2020-01-25T21:37:13.499108Z"
    }
   },
   "outputs": [],
   "source": [
    "%load_ext rpy2.ipython"
   ]
  },
  {
   "cell_type": "code",
   "execution_count": null,
   "metadata": {
    "ExecuteTime": {
     "end_time": "2020-01-25T21:37:13.554346Z",
     "start_time": "2020-01-25T21:37:13.515018Z"
    }
   },
   "outputs": [],
   "source": [
    "%%R -o output\n",
    "d <- read.csv2(\"data/NumbeoOutlierRemoved.csv\",sep=',',dec ='.')\n",
    "n <- nrow(d)\n",
    "set.seed(123)\n",
    "train <- sample(1:n,round(n*2/3))\n",
    "\n",
    "\n",
    "res <- lm(CostOfLiving~PurchasingPower+Safety+HealthCare+PropertyPriceToIncomeRatio+TrafficCommuteTime+Pollution+Climate,data=d[train,])\n",
    "summary(res)\n",
    "output <- capture.output({summary(res) })\n"
   ]
  },
  {
   "cell_type": "code",
   "execution_count": null,
   "metadata": {
    "ExecuteTime": {
     "end_time": "2020-01-25T21:37:13.558002Z",
     "start_time": "2020-01-25T21:37:13.555586Z"
    }
   },
   "outputs": [],
   "source": [
    "print(output)"
   ]
  },
  {
   "cell_type": "markdown",
   "metadata": {},
   "source": [
    "## Interpretation\n",
    "\n",
    "From the visual analysis we see that there is a strong postive correlation of the cost of living and the quality of life, purchasing power and safety.\n",
    "\n",
    "The higher the cost of living the lower is the ratio between the property prices and the income. Also the cost of living is lower when the commute time index or the pollution is high.\n",
    "In addition when the climate is nice the cost of living tends to be higher. This is also confirmed by the inference statistics of the simple regression model. \n",
    "\n",
    "The model shows coefficients significant from 0 for all indices. \n",
    "\n",
    "\n",
    "And interesting insight is that in order to get good health care you not necessarly have to have high cost of living.\n"
   ]
  },
  {
   "cell_type": "markdown",
   "metadata": {},
   "source": [
    "## Are there cities with a higher healthcare ranking and lower cost of living as Vienna?\n"
   ]
  },
  {
   "cell_type": "code",
   "execution_count": null,
   "metadata": {
    "ExecuteTime": {
     "end_time": "2020-01-25T21:37:13.578959Z",
     "start_time": "2020-01-25T21:37:13.559180Z"
    },
    "scrolled": false
   },
   "outputs": [],
   "source": [
    "ViennaHealthCare = dfNumbeo2020_cleaned.loc[dfNumbeo2020_cleaned.City == 'Vienna','HealthCare'].values[0]\n",
    "ViennaCostOfLiving = dfNumbeo2020_cleaned.loc[dfNumbeo2020_cleaned.City == 'Vienna','CostOfLiving'].values[0]\n",
    "\n",
    "dfNumbeo2020_cleaned.loc[((dfNumbeo2020_cleaned.HealthCare >= ViennaHealthCare) & (dfNumbeo2020_cleaned.CostOfLiving <= ViennaCostOfLiving)) ,:]\n"
   ]
  },
  {
   "cell_type": "markdown",
   "metadata": {},
   "source": [
    "## Answer\n",
    "Taipei ranks highest in terms of health care with similar cost of living, but the purchasing power in vienna is higher the pollution is lower and the time to commute is lower well. Thats why vienna scores higher! "
   ]
  },
  {
   "cell_type": "code",
   "execution_count": null,
   "metadata": {},
   "outputs": [],
   "source": []
  }
 ],
 "metadata": {
  "kernelspec": {
   "display_name": "Python 3",
   "language": "python",
   "name": "python3"
  },
  "language_info": {
   "codemirror_mode": {
    "name": "ipython",
    "version": 3
   },
   "file_extension": ".py",
   "mimetype": "text/x-python",
   "name": "python",
   "nbconvert_exporter": "python",
   "pygments_lexer": "ipython3",
   "version": "3.6.9"
  }
 },
 "nbformat": 4,
 "nbformat_minor": 4
}
