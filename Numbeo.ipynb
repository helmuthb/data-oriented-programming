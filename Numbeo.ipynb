{
 "cells": [
  {
   "cell_type": "markdown",
   "metadata": {},
   "source": [
    "## Scope of Exercise 3\n",
    "\n",
    "The goal of this project is to collect data about cities and countries, clean and merge the data to answer the following questions:\n",
    "\n",
    "* How do the rankings change over time?\n",
    "* How do these rankings correlate with each other for one specific year?\n",
    "* How do they correlate with other statistics about the countries in which\n",
    "  the cities are located?\n",
    "* How do they correlate with quality of life rankings of the country\n",
    "  in which the cities are located?\n",
    "* What are the determining characteristics for livability of a city?\n",
    "  How do they correlate with cost of living?"
   ]
  },
  {
   "cell_type": "markdown",
   "metadata": {},
   "source": [
    "## Imports"
   ]
  },
  {
   "cell_type": "code",
   "execution_count": null,
   "metadata": {},
   "outputs": [],
   "source": [
    "import pandas as pd\n",
    "import numpy as np\n",
    "import seaborn as sns\n",
    "import matplotlib.pyplot as plt\n",
    "from scipy.stats import spearmanr"
   ]
  },
  {
   "cell_type": "markdown",
   "metadata": {},
   "source": [
    "## Load Data"
   ]
  },
  {
   "cell_type": "markdown",
   "metadata": {},
   "source": [
    "### Numbeo Cities"
   ]
  },
  {
   "cell_type": "code",
   "execution_count": null,
   "metadata": {},
   "outputs": [],
   "source": [
    "# from https://www.numbeo.com/quality-of-life/rankings_by_country.jsp?title=2012-Q1\n",
    "dfNumbeo = pd.read_csv(r\"data/Numbeo.csv\",sep=\";\",decimal=\",\")\n",
    "dfNumbeo.columns = ['Period', 'City', 'NumbeoIndex', 'PurchasingPower', 'Safety', 'HealthCare', 'CostOfLiving', 'PropertyPriceToIncomeRatio', 'TrafficCommuteTime','Pollution', 'Climate']\n",
    "\n",
    "dfNumbeo[['City','Country','Country2']] = dfNumbeo['City'].str.split(',',expand=True)\n",
    "dfNumbeo['City'] = dfNumbeo.City.str.strip()\n",
    "dfNumbeo['Country'] = dfNumbeo.Country.str.strip()\n",
    "dfNumbeo.set_index('City',inplace=True, drop=False)\n",
    "# fix us of a cities/country\n",
    "dfNumbeo.loc['San Francisco','Country'] = \"United States\"\n",
    "dfNumbeo.loc['Los Angeles','Country'] = \"United States\"\n",
    "dfNumbeo.loc['New York','Country'] = \"United States\"\n",
    "\n",
    "#why does it introduce another column?\n",
    "#dfNumbeo.to_csv(\"numbeoprocessed.csv\", index=False)\n",
    "#Answer United States is part of the city name, so dropping this column...\n",
    "dfNumbeo.drop('Country2', axis=1, inplace=True)\n",
    "\n",
    "dfNumbeo2012 = dfNumbeo.set_index('Period').loc['2012-Q1',:]\n",
    "dfNumbeo2012.reset_index(inplace=True)\n",
    "dfNumbeo2012['Country'] = dfNumbeo2012.Country.str.strip()\n",
    "dfNumbeo2012.set_index('City',inplace=True, drop=False)\n",
    "dfNumbeo2012[\"NumbeoRank\"] = dfNumbeo2012[\"NumbeoIndex\"].rank(ascending=False) "
   ]
  },
  {
   "cell_type": "markdown",
   "metadata": {},
   "source": [
    "### Mercer Cities"
   ]
  },
  {
   "cell_type": "code",
   "execution_count": null,
   "metadata": {},
   "outputs": [],
   "source": [
    "##loading mercer data extracted from https://en.wikipedia.org/wiki/Mercer_Quality_of_Living_Survey\n",
    "dfMercer = pd.read_csv('data/Mercer.csv')\n",
    "dfMercer.columns = ['City','Country','MercerIndex','Year','MercerRank']\n",
    "\n",
    "dfMercer2012 = dfMercer.loc[dfMercer['Year']== 2012,:]\n",
    "dfMercer2012.set_index('City',inplace=True, drop=False)"
   ]
  },
  {
   "cell_type": "markdown",
   "metadata": {},
   "source": [
    "### UN Prosperity Cities"
   ]
  },
  {
   "cell_type": "code",
   "execution_count": null,
   "metadata": {},
   "outputs": [],
   "source": [
    "#Source: United Nations Human Settlements Programme (UN-Habitat), Global Urban Indicators Database 2012.\n",
    "dfProsperity2012 = pd.read_csv('data/city-prosperity-index_country.csv')\n",
    "dfProsperity2012.columns = ['Country','City','Cpi5','Cpi4','Productivity','QoLUN','Infrastructure','Environment','Equity']\n",
    "\n",
    "dfProsperity2012 = dfProsperity2012.set_index('City', drop=False)\n",
    "dfProsperity2012[\"UNRank\"] = dfProsperity2012[\"QoLUN\"].rank(ascending=False)"
   ]
  },
  {
   "cell_type": "markdown",
   "metadata": {},
   "source": [
    "### Human Development Index (HDI) Countries"
   ]
  },
  {
   "cell_type": "code",
   "execution_count": null,
   "metadata": {
    "scrolled": true
   },
   "outputs": [],
   "source": [
    "# from http://hdr.undp.org/en/data#\n",
    "hdi = pd.read_csv('./data/human-development-index.csv', header=1)\n",
    "\n",
    "hdi[\"HDIRank(2012)\"] = hdi[\"2012\"].rank(method='dense', ascending=False)\n",
    "\n",
    "# convert countries to numbeo notation\n",
    "hdi.loc[hdi['Country'] == 'Czechia', 'Country'] = 'Czech Republic'\n",
    "hdi.loc[hdi['Country'] == 'Iran (Islamic Republic of)', 'Country'] = 'Iran'\n",
    "hdi.loc[hdi['Country'] == 'Russian Federation', 'Country'] = 'Russia'\n",
    "hdi.loc[hdi['Country'] == 'Bolivia (Plurinational State of)', 'Country'] = 'Bolivia'\n",
    "hdi.loc[hdi['Country'] == 'Moldova (Republic of)', 'Country'] = 'Moldova'\n",
    "hdi.loc[hdi['Country'] == 'Korea (Republic of)', 'Country'] = 'Republic of Korea'\n",
    "hdi.loc[hdi['Country'] == 'Tanzania (United Republic of)', 'Country'] = 'United Republic of Tanzania'"
   ]
  },
  {
   "cell_type": "markdown",
   "metadata": {},
   "source": [
    "### Numbeo Countries"
   ]
  },
  {
   "cell_type": "code",
   "execution_count": null,
   "metadata": {},
   "outputs": [],
   "source": [
    "dfNumbeo2012Countries = pd.read_csv(r\"./data/numbeo-by-country.csv\", header=0)\n",
    "dfNumbeo2012Countries[\"NumbeoCountryRank\"] = dfNumbeo2012Countries[\"Rank\"]"
   ]
  },
  {
   "cell_type": "markdown",
   "metadata": {},
   "source": [
    "## How do the rankings change over time?\n",
    "As a first step we look at the Numbeo Dataset and analyze the different indices visually over time"
   ]
  },
  {
   "cell_type": "code",
   "execution_count": null,
   "metadata": {},
   "outputs": [],
   "source": [
    "dfNumbeo"
   ]
  },
  {
   "cell_type": "markdown",
   "metadata": {},
   "source": [
    "## What do these numbers mean? \n",
    "The Numbeos Quality of Life Ranking is a weighted index based on several key factors: \n",
    "\n",
    "### Purchasing Power\n",
    "Relative to New York City: If domestic purchasing power is 40, this means that the inhabitants of that city with the average salary can afford to buy on an average 60% less goods and services than New York City residents with an average salary. \n",
    "\n",
    "### PropertyPriceToIncomeRatio\n",
    "Generally calculated as the ratio of median apartment prices to median familial disposable income\n",
    "\n",
    "### Cost of Living\n",
    "These indices are relative to New York City (NYC). Which means that for New York City, each index should be 100(%). If another city has, for example, rent index of 120, it means that on an average in that city rents are 20% more expensive than in New York City.\n",
    "\n",
    "### Pollution, Crime, Health Care\n",
    "Is based on survey data of visitors. [-2, +2], with -2 having meaning of strongly negative and +2 meaning of strongly positive \n",
    "\n",
    "### Climate Index \n",
    "Is an estimation of the climate likability of a given city or a country. It is in the range [-100, +100] (higher is better)\n",
    "\n",
    "### TrafficCommuteTime\n",
    "Is a composite index of time consumed in traffic due to job commute, estimation of time consumption dissatisfaction, CO2 consumption estimation in traffic and overall inefficiencies in the traffic system\n",
    "\n",
    " protected void calculateIndex() {\n",
    "    index = new TrafficIndex();\n",
    "    index.time = overall.getTimeOverall();\n",
    "    double tooMuchTime = 0.0;\n",
    "    if (index.time > 25.0) {\n",
    "      tooMuchTime = index.time - 25;\n",
    "    }\n",
    "    index.timeExp = index.time + Math.pow(tooMuchTime, Math.E);\n",
    "    double co2 = 0.0;\n",
    "    co2 += overall.time_bus * 20.0; // bus produces 20g of CO2 per minute (for each passenger)\n",
    "    co2 += overall.time_driving * 133.0; // car produces 133g of CO2 per minute (assumes only driver)\n",
    "    co2 += overall.time_train * 10.0; // train produces 10g of CO2 per minute (for each passenger)\n",
    "    co2 += overall.time_tram * 15.0; // tram produces 15g of CO2 per minute (for each passenger)\n",
    "    co2 += overall.time_other * 10.0; // other produces 10g of CO2 per minute\n",
    "    co2 += overall.time_motorbike * 80.0; // motorbike produces 80g of CO2 per hour\n",
    "    index.co2 = 2 * co2; \n",
    "\n",
    "    index.main = index.time + Math.sqrt(index.timeExp) + Math.sqrt(index.co2) + Math.sqrt(index.inefficiency);\n",
    "}\n",
    "\n",
    "\n",
    "### Quality of Life (QoL)\n",
    "Not the raking is given by the following formular: \n",
    "QoL = Math.max(0, 100 + purchasingPowerInclRentIndex / 2.5 - (housePriceToIncomeRatio * 1.0) - costOfLivingIndex / 10 + safetyIndex / 2.0 + healthIndex / 2.5 - trafficTimeIndex / 2.0 - pollutionIndex * 2.0 / 3.0 + climateIndex / 3.0); \n",
    "\n",
    "The formular has changed over time. For example between June 2017 and Decembar 2017 they decreased the weight for the cost of living. \n",
    "This should be considered when drawing conclusions later! \n",
    "Further details can be found on this website: https://www.numbeo.com/quality-of-life/indices_explained.jsp\n",
    "\n"
   ]
  },
  {
   "cell_type": "code",
   "execution_count": null,
   "metadata": {},
   "outputs": [],
   "source": [
    "#How do the rankings change over time?\n",
    "\n",
    "fig = plt.figure(figsize=(20,10))\n",
    "fig.suptitle('Average Rankings over Time', fontsize='x-large', fontweight='bold')\n",
    "#This is used for the main title. 'figure()' is a class that provides all the plotting elements of a diagram. \n",
    "#This must be used first or else the title will not show.fig.subplots_adjust(top=0.85) solves our overlapping title problem.\n",
    "fig.subplots_adjust(top=0.95)\n",
    "\n",
    "\n",
    "ax = fig.add_subplot(111)\n",
    "\n",
    "fontdict={'fontsize': 14, 'fontweight' : 'book',    'verticalalignment': 'baseline',   'horizontalalignment': 'center'}\n",
    "\n",
    "#ax.set_title('Plotting Tutorial', fontdict=fontdict)\n",
    "\n",
    "sns.lineplot(x=\"Period\", y=\"NumbeoIndex\", data=dfNumbeo,legend='brief',label='Quality of Life')\n",
    "sns.lineplot(x=\"Period\", y=\"Climate\", data=dfNumbeo,legend='brief',label='Climate')\n",
    "sns.lineplot(x=\"Period\", y=\"PurchasingPower\", data=dfNumbeo,legend='brief',label='Purchasing Power')\n",
    "sns.lineplot(x=\"Period\", y=\"Safety\", data=dfNumbeo,legend='brief',label='Safety')\n",
    "sns.lineplot(x=\"Period\", y=\"HealthCare\", data=dfNumbeo,legend='brief',label='Health Care')\n",
    "sns.lineplot(x=\"Period\", y=\"CostOfLiving\", data=dfNumbeo,legend='brief',label='Cost of Living')\n",
    "sns.lineplot(x=\"Period\", y=\"PropertyPriceToIncomeRatio\", data=dfNumbeo,legend='brief',label='Property Price to Income Ratio')\n",
    "sns.lineplot(x=\"Period\", y=\"TrafficCommuteTime\", data=dfNumbeo,legend='brief',label='Purchasing Power')\n",
    "sns.lineplot(x=\"Period\", y=\"Pollution\", data=dfNumbeo,legend='brief',label='Pollution')\n",
    "\n",
    "plt.legend(fontsize=14)\n",
    "#plt.title('Average Rankings over Time', fontdict=fontdict, color=\"black\", position=(0.5,1));\n",
    "plt.xlabel('Collectiontime', fontsize=14)\n",
    "plt.ylabel('Average Score', fontsize=14);\n",
    "fig.savefig('visuals/RankingsOverTime.png')"
   ]
  },
  {
   "cell_type": "code",
   "execution_count": null,
   "metadata": {},
   "outputs": [],
   "source": [
    "#There might be some outliers in the data so we decided to also look at a boxplot:\n",
    "fig = plt.figure(figsize=(30,15))\n",
    "fig.suptitle('Average Rankings over Time', fontsize='x-large', fontweight='bold')\n",
    "#This is used for the main title. 'figure()' is a class that provides all the plotting elements of a diagram. \n",
    "#This must be used first or else the title will not show.fig.subplots_adjust(top=0.85) solves our overlapping title problem.\n",
    "fig.subplots_adjust(top=0.95)\n",
    "\n",
    "\n",
    "ax = fig.add_subplot(111)\n",
    "\n",
    "fontdict={'fontsize': 14, 'fontweight' : 'book',    'verticalalignment': 'baseline',   'horizontalalignment': 'center'}\n",
    "\n",
    "#ax.set_title('Plotting Tutorial', fontdict=fontdict)\n",
    "\n",
    "dfNumbeoPivoted = pd.melt(dfNumbeo, col_level=0, id_vars=['Period', 'City'], value_vars=['NumbeoIndex', 'PurchasingPower', 'Safety', 'HealthCare', 'CostOfLiving', 'PropertyPriceToIncomeRatio', 'TrafficCommuteTime','Pollution', 'Climate'])\n",
    "\n",
    "\n",
    "flierprops = dict(markerfacecolor='0.75', markersize=5,    linestyle='none')\n",
    "g = sns.boxplot(x=\"Period\", y=\"value\",hue=\"variable\",notch=True, data=dfNumbeoPivoted,order=np.flip(dfNumbeo.Period.unique()),flierprops=flierprops)\n",
    "\n",
    "plt.legend(fontsize=14)\n",
    "#plt.title('Average Rankings over Time', fontdict=fontdict, color=\"black\", position=(0.5,1));\n",
    "plt.xlabel('Collectiontime', fontsize=14)\n",
    "plt.ylabel('Score', fontsize=14);\n",
    "fig.savefig('visuals/RankingsOverTimeBoxPlot.png')"
   ]
  },
  {
   "cell_type": "markdown",
   "metadata": {},
   "source": [
    "## Interpretation\n",
    "The Quality of life rankings on average increased from 2012 to 2015. Then they decreased a bit till mid 2017 and recovered again to mid 2018. \n",
    "After that the quality of life ranking decreased again.\n"
   ]
  },
  {
   "cell_type": "markdown",
   "metadata": {},
   "source": [
    "## How do city ratings correlate with quality of life rankings of the country in which the cities are located?\n"
   ]
  },
  {
   "cell_type": "code",
   "execution_count": null,
   "metadata": {},
   "outputs": [],
   "source": [
    "print(f'number numbeo rows {dfNumbeo2012.shape[0]}')\n",
    "numbeo2012_vs_hdi = pd.merge(dfNumbeo2012, hdi, how='inner', on='Country')\n",
    "print(f'joined {numbeo2012_vs_hdi.shape[0]} cities from numbeo with countries from hdi')"
   ]
  },
  {
   "cell_type": "markdown",
   "metadata": {},
   "source": [
    "**Common Correlation Function**"
   ]
  },
  {
   "cell_type": "code",
   "execution_count": null,
   "metadata": {},
   "outputs": [],
   "source": [
    "def eval_corr(df, rankA, rankB, title):\n",
    "    fig = plt.figure(figsize=(13,13))\n",
    "    g = sns.pairplot(df.loc[:,[rankA,rankB]],kind=\"reg\", diag_kind=None)\n",
    "    g.fig.suptitle(title, y=0.97,fontsize=14)\n",
    "    g.fig.subplots_adjust(top=0.85,left=0.2,bottom=0.1)\n",
    "    g.fig.savefig(f'visuals/CorrelationOf{rankA}vs{rankB}.png')\n",
    "\n",
    "    spearman_df = spearmanr(df[rankA], df[rankB])\n",
    "    print(f'spearman relation between {rankA} and {rankB}: {spearman_df}')\n",
    "    \n",
    "    df[\"CityPerformance\"] = df[rankA] - df[rankB]\n",
    "    print(f'10 Cities which perform better than their country ({rankA} vs {rankB})')\n",
    "    display(df.sort_values(\"CityPerformance\", ascending=True)[[\"City\", \"Country\", rankA, rankB]].head(10))\n",
    "    print(f'10 Cities which perform worse than their country ({rankA} vs {rankB})')\n",
    "    display(df.sort_values(\"CityPerformance\", ascending=False)[[\"City\", \"Country\", rankA, rankB]].head(10))"
   ]
  },
  {
   "cell_type": "markdown",
   "metadata": {
    "ExecuteTime": {
     "end_time": "2020-01-25T18:32:30.469447Z",
     "start_time": "2020-01-25T18:32:30.466969Z"
    }
   },
   "source": [
    "### Numbeo Cities vs Human Development Index (HDI) Countries"
   ]
  },
  {
   "cell_type": "code",
   "execution_count": null,
   "metadata": {},
   "outputs": [],
   "source": [
    "eval_corr(numbeo2012_vs_hdi, 'NumbeoRank', 'HDIRank(2012)', \"Numbeo Cities vs HDI Countries Rankings 2012\")"
   ]
  },
  {
   "cell_type": "markdown",
   "metadata": {},
   "source": [
    "### Numbeo Cities vs Human Development Index (HDI) Countries (reranked)"
   ]
  },
  {
   "cell_type": "code",
   "execution_count": null,
   "metadata": {
    "scrolled": false
   },
   "outputs": [],
   "source": [
    "numbeo2012_vs_hdi[\"HDIReRank(2012)\"] = numbeo2012_vs_hdi[\"HDIRank(2012)\"].rank(method='dense', ascending=True) \n",
    "eval_corr(numbeo2012_vs_hdi, 'NumbeoRank', 'HDIReRank(2012)', \"Numbeo Cities vs HDI Countries Rankings Reranked 2012\")"
   ]
  },
  {
   "cell_type": "markdown",
   "metadata": {},
   "source": [
    "### Numbeo Cities vs Numbeo Countries"
   ]
  },
  {
   "cell_type": "code",
   "execution_count": null,
   "metadata": {},
   "outputs": [],
   "source": [
    "numbeo2012_vs_numbeo2012_countries = pd.merge(dfNumbeo2012, dfNumbeo2012Countries, how='inner', on='Country')\n",
    "print(f'joined {numbeo2012_vs_numbeo2012_countries.shape[0]} numbeo cities with countries')\n",
    "eval_corr(numbeo2012_vs_numbeo2012_countries, 'NumbeoRank', 'NumbeoCountryRank', \"Numbeo Cities vs Numbeo Countries Rankings 2012\")"
   ]
  },
  {
   "cell_type": "markdown",
   "metadata": {},
   "source": [
    "### Mercer Cities vs Human Development Index (HDI) Countries"
   ]
  },
  {
   "cell_type": "code",
   "execution_count": null,
   "metadata": {},
   "outputs": [],
   "source": [
    "mercer2012_vs_hdi = pd.merge(dfMercer2012, hdi, how='inner', on='Country')\n",
    "print(f'joined {mercer2012_vs_hdi.shape[0]} cities from mercer with countries from hdi')\n",
    "eval_corr(mercer2012_vs_hdi, 'MercerRank', 'HDIRank(2012)', \"Mercer Cities vs HDI Countries Rankings 2012\")"
   ]
  },
  {
   "cell_type": "markdown",
   "metadata": {},
   "source": [
    "### Mercer Cities vs Numbeo Countries"
   ]
  },
  {
   "cell_type": "code",
   "execution_count": null,
   "metadata": {},
   "outputs": [],
   "source": [
    "mercer2012_vs_numbeo_countries = pd.merge(dfMercer2012, dfNumbeo2012Countries, how='inner', on='Country')\n",
    "print(f'joined {mercer2012_vs_numbeo_countries.shape[0]} cities from mercer with countries from hdi')\n",
    "eval_corr(mercer2012_vs_numbeo_countries, 'MercerRank', 'NumbeoCountryRank', \"Mercer Cities vs Numbeo Countries Rankings 2012\")"
   ]
  },
  {
   "cell_type": "markdown",
   "metadata": {},
   "source": [
    "### UN Prosperity Cities vs HDI Countries"
   ]
  },
  {
   "cell_type": "code",
   "execution_count": null,
   "metadata": {
    "scrolled": false
   },
   "outputs": [],
   "source": [
    "prosperity2012_vs_hdi = pd.merge(dfProsperity2012, hdi, how='inner', on='Country')\n",
    "print(f'joined {prosperity2012_vs_hdi.shape[0]} cities from prosperity with countries from hdi')\n",
    "eval_corr(prosperity2012_vs_hdi, 'UNRank', 'HDIRank(2012)', \"UN Prosperity Cities vs HDI Countries 2012\")"
   ]
  },
  {
   "cell_type": "markdown",
   "metadata": {},
   "source": [
    "### UN Prosperity Cities vs Numbeo Countries"
   ]
  },
  {
   "cell_type": "code",
   "execution_count": null,
   "metadata": {},
   "outputs": [],
   "source": [
    "prosperity2012_vs_hdi = pd.merge(dfProsperity2012, dfNumbeo2012Countries, how='inner', on='Country')\n",
    "print(f'joined {prosperity2012_vs_hdi.shape[0]} cities from prosperity with countries from numbeo')\n",
    "eval_corr(prosperity2012_vs_hdi, 'UNRank', 'NumbeoCountryRank', \"UN Prosperity Cities vs Numbeo Countries 2012\")\n"
   ]
  },
  {
   "cell_type": "markdown",
   "metadata": {},
   "source": [
    "## How do these rankings correlate with each other for one specific year?"
   ]
  },
  {
   "cell_type": "code",
   "execution_count": null,
   "metadata": {},
   "outputs": [],
   "source": [
    "mergedDf = dfMercer2012.merge(dfNumbeo2012, left_index=True, right_index=True)\n",
    "\n",
    "#now that we operate on a subset of the data we should rerank the cities to have comparable ranks! \n",
    "#otherwise we would have higher ranks for numbeo cities because we have more data there and our goal is to see if numbeo would sort the cities in the same order as mercer does. \n",
    "mergedDf[\"NumbeoReRank\"] = mergedDf[\"NumbeoRank\"].rank(ascending=False) \n",
    "mergedDf[\"MercerReRank\"] = mergedDf[\"MercerRank\"].rank(ascending=False) \n",
    "mergedDf.to_csv(\"data/NumbeoAndMercer.csv\", index=False)\n",
    "mergedDf"
   ]
  },
  {
   "cell_type": "code",
   "execution_count": null,
   "metadata": {},
   "outputs": [],
   "source": [
    "fig = plt.figure(figsize=(13,13))\n",
    "g = sns.pairplot(mergedDf.loc[:,['MercerReRank','NumbeoReRank']],kind=\"reg\")\n",
    "g.fig.suptitle(\"Correlation of Mercer and Numbeo Rankings \\n with reranking in 2012\", y=0.97,fontsize=14)\n",
    "g.fig.subplots_adjust(top=0.85,left=0.2,bottom=0.1)\n",
    "g.fig.savefig('visuals/CorrelationOfMercerAndNumbeoRanking2012withreranking.png')\n",
    "\n"
   ]
  },
  {
   "cell_type": "code",
   "execution_count": null,
   "metadata": {},
   "outputs": [],
   "source": [
    "fig = plt.figure(figsize=(10,10))\n",
    "g = sns.pairplot(mergedDf.loc[:,['MercerRank','NumbeoRank']],kind=\"reg\")\n",
    "g.fig.suptitle(\"Correlation of Mercer and Numbeo Rankings \\n without reranking in 2012\", y=0.97,fontsize=14)\n",
    "g.fig.subplots_adjust(top=0.85,left=0.2,bottom=0.1)\n",
    "g.fig.savefig('visuals/CorrelationOfMercerAndNumbeoRanking2012withoutreranking.png')\n",
    "\n"
   ]
  },
  {
   "cell_type": "code",
   "execution_count": null,
   "metadata": {},
   "outputs": [],
   "source": [
    "%load_ext rpy2.ipython"
   ]
  },
  {
   "cell_type": "code",
   "execution_count": null,
   "metadata": {},
   "outputs": [],
   "source": [
    "%%R -o output\n",
    "d <- read.csv2(\"data/NumbeoAndMercer.csv\",sep=',',dec ='.')\n",
    "rankcorrelation <- cor(d$NumbeoReRank, d$MercerReRank,  method = \"spearman\", use = \"complete.obs\")\n",
    "indexcorrelation <- cor(d$NumbeoIndex, d$MercerIndex,  method = \"spearman\", use = \"complete.obs\")\n",
    "output <- capture.output({c(rankcorrelation,indexcorrelation) })"
   ]
  },
  {
   "cell_type": "code",
   "execution_count": null,
   "metadata": {},
   "outputs": [],
   "source": [
    "print(output)"
   ]
  },
  {
   "cell_type": "markdown",
   "metadata": {},
   "source": [
    "## Insight\n",
    "Interesting to see that Mercer Rankings correlate with Numbeo Rankings. Especially because Mercers sells the ranking data for 20k and Numbeo is (almost) for free. "
   ]
  },
  {
   "cell_type": "code",
   "execution_count": null,
   "metadata": {},
   "outputs": [],
   "source": [
    "mergedDf = mergedDf.merge(dfProsperity2012, left_index=True, right_index=True) \n",
    "mergedDf[\"UNReRank\"] = mergedDf[\"UNRank\"].rank(ascending=False) \n",
    "mergedDf"
   ]
  },
  {
   "cell_type": "code",
   "execution_count": null,
   "metadata": {},
   "outputs": [],
   "source": [
    "fig = plt.figure(figsize=(10,10))\n",
    "g = sns.pairplot(mergedDf.loc[:,['MercerReRank','NumbeoReRank','UNReRank']],kind=\"reg\")\n",
    "g.fig.suptitle(\"Correlation of Mercer, UN and Numbeo Rankings in 2012\", y=0.97,fontsize=14)\n",
    "g.fig.subplots_adjust(top=0.9)\n",
    "g.fig.savefig('visuals/CorrelationOfMercerAndUNAndNumbeoRanking2012.png')\n"
   ]
  },
  {
   "cell_type": "code",
   "execution_count": null,
   "metadata": {},
   "outputs": [],
   "source": [
    "#Todo merging only Numbeo with UN Data! (Removing the bottleneck Mercer)\n",
    "mergedDf = dfProsperity2012.merge(dfNumbeo2012, left_index=True, right_index=True)\n",
    "mergedDf[\"NumbeoReRank\"] = mergedDf[\"NumbeoRank\"].rank(ascending=False) \n",
    "mergedDf[\"UNReRank\"] = mergedDf[\"UNRank\"].rank(ascending=False) \n",
    "mergedDf"
   ]
  },
  {
   "cell_type": "code",
   "execution_count": null,
   "metadata": {},
   "outputs": [],
   "source": [
    "fig = plt.figure(figsize=(10,10))\n",
    "\n",
    "g = sns.pairplot(mergedDf.loc[:,['NumbeoReRank','UNReRank']],kind=\"reg\")\n",
    "g.fig.suptitle(\"Correlation of UN and Numbeo Rankings in 2012\", y=0.97,fontsize=14)\n",
    "g.fig.subplots_adjust(top=0.9)\n",
    "g.fig.savefig('visuals/CorrelationOfUNAndNumbeoRanking2012.png')"
   ]
  },
  {
   "cell_type": "markdown",
   "metadata": {},
   "source": [
    "## How do they correlate with other statistics about the countries in which the cities are located? \n",
    "TODO: For this we should integrate the data about cities"
   ]
  },
  {
   "cell_type": "markdown",
   "metadata": {},
   "source": [
    "## What are the determining characteristics for livability of a city? How do they correlate with cost of living?"
   ]
  },
  {
   "cell_type": "code",
   "execution_count": null,
   "metadata": {},
   "outputs": [],
   "source": [
    "#for this question we will look at the most recent Numbeo data (2020) and make a visual analysis. \n",
    "#after that we will train a linear regression model in r and interpret the inference statistics\n",
    "\n",
    "dfNumbeo2020 = dfNumbeo.set_index('Period').loc['2020',:]\n",
    "#dfNumbeo2020\n",
    "\n",
    "\n",
    "#There might be some outliers in the data so we decided to also look at a boxplot:\n",
    "#fig = plt.figure(figsize=(12,10))\n",
    "#fig.suptitle('Correlation of City Characteristics', fontsize='x-large', fontweight='bold', y=0.93)\n",
    "#This is used for the main title. 'figure()' is a class that provides all the plotting elements of a diagram. \n",
    "#This must be used first or else the title will not show.fig.subplots_adjust(top=0.85) solves our overlapping title problem.\n",
    "\n",
    "\n",
    "fig = plt.figure(figsize=(30,15))\n",
    "#fig.suptitle('Correlation of Rankings in 2020', fontsize='x-large', fontweight='bold')\n",
    "#fig.subplots_adjust(top=0.88,left=0.2,bottom=0.3)\n",
    "\n",
    "#ax = fig.add_subplot(111)\n",
    "g = sns.pairplot(dfNumbeo2020,kind=\"reg\")\n",
    "g.fig.subplots_adjust(top=0.95)\n",
    "g.fig.suptitle(\"Correlation of Rankings with outliers in 2020\", y=0.97,fontsize=14)\n",
    "\n",
    "# plt.title('Correlation of Rankings in 2020', fontdict=fontdict, color=\"black\", position=(0.5,1));\n",
    "\n",
    "g.fig.savefig('visuals/CorrelationOfRankingsIn2020WithOutliers.png')\n"
   ]
  },
  {
   "cell_type": "code",
   "execution_count": null,
   "metadata": {},
   "outputs": [],
   "source": [
    "#find the outliers\n",
    "#taken from https://stackoverflow.com/questions/46827580/multivariate-outlier-removal-with-mahalanobis-distance\n",
    "def MahalanobisDist(data, verbose=False):\n",
    "    covariance_matrix = np.cov(data, rowvar=False)\n",
    "    if is_pos_def(covariance_matrix):\n",
    "        inv_covariance_matrix = np.linalg.inv(covariance_matrix)\n",
    "        if is_pos_def(inv_covariance_matrix):\n",
    "            vars_mean = []\n",
    "            for i in range(data.shape[0]):\n",
    "                vars_mean.append(list(data.mean(axis=0)))\n",
    "            diff = data - vars_mean\n",
    "            md = []\n",
    "            for i in range(len(diff)):\n",
    "                md.append(np.sqrt(diff[i].dot(inv_covariance_matrix).dot(diff[i])))\n",
    "\n",
    "            if verbose:\n",
    "                print(\"Covariance Matrix:\\n {}\\n\".format(covariance_matrix))\n",
    "                print(\"Inverse of Covariance Matrix:\\n {}\\n\".format(inv_covariance_matrix))\n",
    "                print(\"Variables Mean Vector:\\n {}\\n\".format(vars_mean))\n",
    "                print(\"Variables - Variables Mean Vector:\\n {}\\n\".format(diff))\n",
    "                print(\"Mahalanobis Distance:\\n {}\\n\".format(md))\n",
    "            return md\n",
    "        else:\n",
    "            print(\"Error: Inverse of Covariance Matrix is not positive definite!\")\n",
    "    else:\n",
    "        print(\"Error: Covariance Matrix is not positive definite!\")\n",
    "\n",
    "\n",
    "def MD_detectOutliers(data, extreme=False, verbose=False):\n",
    "    MD = MahalanobisDist(data, verbose)\n",
    "    # one popular way to specify the threshold\n",
    "    #m = np.mean(MD)\n",
    "    #t = 3. * m if extreme else 2. * m\n",
    "    #outliers = []\n",
    "    #for i in range(len(MD)):\n",
    "    #    if MD[i] > t:\n",
    "    #        outliers.append(i)  # index of the outlier\n",
    "    #return np.array(outliers)\n",
    "\n",
    "    # or according to the 68–95–99.7 rule\n",
    "    std = np.std(MD)\n",
    "    k = 3. * std if extreme else 2. * std\n",
    "    m = np.mean(MD)\n",
    "    up_t = m + k\n",
    "    low_t = m - k\n",
    "    outliers = []\n",
    "    for i in range(len(MD)):\n",
    "        if (MD[i] >= up_t) or (MD[i] <= low_t):\n",
    "            outliers.append(i)  # index of the outlier\n",
    "    return np.array(outliers)\n",
    "\n",
    "\n",
    "def is_pos_def(A):\n",
    "    if np.allclose(A, A.T):\n",
    "        try:\n",
    "            np.linalg.cholesky(A)\n",
    "            return True\n",
    "        except np.linalg.LinAlgError:\n",
    "            return False\n",
    "    else:\n",
    "        return False\n",
    "\n",
    "\n",
    "def handle_outliers(noisy_data):\n",
    "    \"\"\" \n",
    "    Parameters\n",
    "    --------\n",
    "    noisy_data: data frame that contains outliers\n",
    "    \n",
    "    Returns\n",
    "    --------\n",
    "    cleaned_data: data frame with outliers\n",
    "    \"\"\"\n",
    "    df = noisy_data \n",
    "    #using a multivariate outlier detection based on mahalanobis distance from \n",
    "    #https://stackoverflow.com/questions/46827580/multivariate-outlier-removal-with-mahalanobis-distance\n",
    "    outliers_indices = MD_detectOutliers(df.iloc[:,2:10].values, verbose=False)\n",
    "\n",
    "    print(\"Outliers Indices: {}\\n\".format(outliers_indices))\n",
    "    df = df.reset_index()\n",
    "    inliers = pd.Int64Index(np.arange(len(df))).difference(outliers_indices)\n",
    "    cleaned_data = df.iloc[inliers]\n",
    "    return cleaned_data\n",
    "    \n",
    "dfNumbeo2020_cleaned = handle_outliers(dfNumbeo2020).set_index('Period')\n"
   ]
  },
  {
   "cell_type": "code",
   "execution_count": null,
   "metadata": {},
   "outputs": [],
   "source": [
    "#looking at the outliers:\n",
    "dfNumbeo2020.iloc[[0,226],:]"
   ]
  },
  {
   "cell_type": "code",
   "execution_count": null,
   "metadata": {},
   "outputs": [],
   "source": [
    "#plotting again without outliers\n",
    "#dfNumbeo2020_cleaned\n",
    "\n",
    "fig = plt.figure(figsize=(30,15))\n",
    "#fig.suptitle('Correlation of Rankings in 2020', fontsize='x-large', fontweight='bold')\n",
    "\n",
    "#ax = fig.add_subplot(111)\n",
    "g = sns.pairplot(dfNumbeo2020_cleaned,kind=\"reg\")\n",
    "g.fig.suptitle(\"Correlation of Rankings in 2020\", y=0.97,fontsize=14)\n",
    "g.fig.subplots_adjust(top=0.95)\n",
    "\n",
    "# plt.title('Correlation of Rankings in 2020', fontdict=fontdict, color=\"black\", position=(0.5,1));\n",
    "\n",
    "g.fig.savefig('visuals/CorrelationOfRankingsIn2020.png')\n"
   ]
  },
  {
   "cell_type": "code",
   "execution_count": null,
   "metadata": {},
   "outputs": [],
   "source": [
    "#plotting subset of the features that lead to an increase of the cost of living:\n",
    "fig = plt.figure(figsize=(30,15))\n",
    "#fig.suptitle('Correlation of Rankings in 2020', fontsize='x-large', fontweight='bold')\n",
    "\n",
    "#ax = fig.add_subplot(111)\n",
    "g = sns.pairplot(dfNumbeo2020_cleaned.loc[:,['CostOfLiving','NumbeoIndex','PurchasingPower','HealthCare']],kind=\"reg\")\n",
    "g.fig.suptitle(\"Cost of living vs city characteristics in 2020 - increasing factors\", y=0.97,fontsize=14)\n",
    "g.fig.subplots_adjust(top=0.95)\n",
    "\n",
    "# plt.title('Correlation of Rankings in 2020', fontdict=fontdict, color=\"black\", position=(0.5,1));\n",
    "\n",
    "g.fig.savefig('visuals/CostOfLivingCorrelationIn2020.png')\n"
   ]
  },
  {
   "cell_type": "code",
   "execution_count": null,
   "metadata": {},
   "outputs": [],
   "source": [
    "#plotting subset of the features that lead to a decrease of the cost of living:\n",
    "fig = plt.figure(figsize=(30,15))\n",
    "#fig.suptitle('Correlation of Rankings in 2020', fontsize='x-large', fontweight='bold')\n",
    "\n",
    "#ax = fig.add_subplot(111)\n",
    "g = sns.pairplot(dfNumbeo2020_cleaned.loc[:,['CostOfLiving','PropertyPriceToIncomeRatio','TrafficCommuteTime','Pollution']],kind=\"reg\")\n",
    "g.fig.suptitle(\"Cost of living vs city characteristics in 2020 - decreasing factors\", y=0.97,fontsize=14)\n",
    "g.fig.subplots_adjust(top=0.95)\n",
    "\n",
    "# plt.title('Correlation of Rankings in 2020', fontdict=fontdict, color=\"black\", position=(0.5,1));\n",
    "\n",
    "g.fig.savefig('visuals/CostOfLivingCorrelationIn2020NegativeInfluencers.png')\n"
   ]
  },
  {
   "cell_type": "code",
   "execution_count": null,
   "metadata": {},
   "outputs": [],
   "source": [
    "dfNumbeo2020_cleaned.to_csv('data/NumbeoOutlierRemoved.csv')"
   ]
  },
  {
   "cell_type": "code",
   "execution_count": null,
   "metadata": {},
   "outputs": [],
   "source": [
    "#There might be some outliers in the data so we decided to also look at a boxplot:\n",
    "fig = plt.figure(figsize=(12,10))\n",
    "fig.suptitle('Correlation of City Characteristics', fontsize='x-large', fontweight='bold', y=0.93)\n",
    "#This is used for the main title. 'figure()' is a class that provides all the plotting elements of a diagram. \n",
    "#This must be used first or else the title will not show.fig.subplots_adjust(top=0.85) solves our overlapping title problem.\n",
    "fig.subplots_adjust(top=0.88,left=0.2,bottom=0.3)\n",
    "\n",
    "\n",
    "ax = fig.add_subplot(111)\n",
    "\n",
    "fontdict={'fontsize': 14, 'fontweight' : 'book',    'verticalalignment': 'baseline',   'horizontalalignment': 'center'}\n",
    "\n",
    "#ax.set_title('Plotting Tutorial', fontdict=fontdict)\n",
    "\n",
    "g = sns.heatmap(dfNumbeo2020_cleaned.corr(),  vmin=-1, cmap='coolwarm', annot=True);\n",
    "\n",
    "plt.legend(fontsize=14)\n",
    "#plt.title('Average Rankings over Time', fontdict=fontdict, color=\"black\", position=(0.5,1));\n",
    "plt.xlabel('', fontsize=14)\n",
    "plt.ylabel('', fontsize=14);\n",
    "fig.savefig('visuals/CorrelationOfCityCharacteristics.png')"
   ]
  },
  {
   "cell_type": "code",
   "execution_count": null,
   "metadata": {},
   "outputs": [],
   "source": [
    "#g = sns.boxplot(x=\"Period\", y=\"value\",hue=\"variable\", data=dfNumbeoPivoted,order=np.flip(dfNumbeo.Period.unique()))\n",
    "#dir(g)"
   ]
  },
  {
   "cell_type": "code",
   "execution_count": null,
   "metadata": {},
   "outputs": [],
   "source": [
    "%load_ext rpy2.ipython"
   ]
  },
  {
   "cell_type": "code",
   "execution_count": null,
   "metadata": {},
   "outputs": [],
   "source": [
    "%%R -o output\n",
    "d <- read.csv2(\"data/NumbeoOutlierRemoved.csv\",sep=',',dec ='.')\n",
    "n <- nrow(d)\n",
    "set.seed(123)\n",
    "train <- sample(1:n,round(n*2/3))\n",
    "\n",
    "\n",
    "res <- lm(CostOfLiving~PurchasingPower+Safety+HealthCare+PropertyPriceToIncomeRatio+TrafficCommuteTime+Pollution+Climate,data=d[train,])\n",
    "summary(res)\n",
    "output <- capture.output({summary(res) })\n"
   ]
  },
  {
   "cell_type": "code",
   "execution_count": null,
   "metadata": {},
   "outputs": [],
   "source": [
    "print(output)"
   ]
  },
  {
   "cell_type": "markdown",
   "metadata": {},
   "source": [
    "## Interpretation\n",
    "\n",
    "From the visual analysis we see that there is a strong postive correlation of the cost of living and the quality of life, purchasing power and safety.\n",
    "\n",
    "The higher the cost of living the lower is the ratio between the property prices and the income. Also the cost of living is lower when the commute time index or the pollution is high.\n",
    "In addition when the climate is nice the cost of living tends to be higher. This is also confirmed by the inference statistics of the simple regression model. \n",
    "\n",
    "The model shows coefficients significant from 0 for all indices. \n",
    "\n",
    "\n",
    "And interesting insight is that in order to get good health care you not necessarly have to have high cost of living.\n"
   ]
  },
  {
   "cell_type": "markdown",
   "metadata": {},
   "source": [
    "## Are there cities with a higher healthcare ranking and lower cost of living as Vienna?\n"
   ]
  },
  {
   "cell_type": "code",
   "execution_count": null,
   "metadata": {
    "scrolled": false
   },
   "outputs": [],
   "source": [
    "ViennaHealthCare = dfNumbeo2020_cleaned.loc[dfNumbeo2020_cleaned.City == 'Vienna','HealthCare'].values[0]\n",
    "ViennaCostOfLiving = dfNumbeo2020_cleaned.loc[dfNumbeo2020_cleaned.City == 'Vienna','CostOfLiving'].values[0]\n",
    "\n",
    "dfNumbeo2020_cleaned.loc[((dfNumbeo2020_cleaned.HealthCare >= ViennaHealthCare) & (dfNumbeo2020_cleaned.CostOfLiving <= ViennaCostOfLiving)) ,:]\n"
   ]
  },
  {
   "cell_type": "markdown",
   "metadata": {},
   "source": [
    "## Answer\n",
    "Taipei ranks highest in terms of health care with similar cost of living, but the purchasing power in vienna is higher the pollution is lower and the time to commute is lower well. Thats why vienna scores higher! "
   ]
  },
  {
   "cell_type": "code",
   "execution_count": null,
   "metadata": {},
   "outputs": [],
   "source": []
  }
 ],
 "metadata": {
  "kernelspec": {
   "display_name": "Python 3",
   "language": "python",
   "name": "python3"
  },
  "language_info": {
   "codemirror_mode": {
    "name": "ipython",
    "version": 3
   },
   "file_extension": ".py",
   "mimetype": "text/x-python",
   "name": "python",
   "nbconvert_exporter": "python",
   "pygments_lexer": "ipython3",
   "version": "3.6.9"
  }
 },
 "nbformat": 4,
 "nbformat_minor": 4
}
